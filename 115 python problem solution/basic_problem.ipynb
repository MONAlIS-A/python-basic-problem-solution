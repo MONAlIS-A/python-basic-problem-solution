{
 "cells": [
  {
   "cell_type": "markdown",
   "id": "f0a4033b-5a30-439b-a5f8-96b64accbcf6",
   "metadata": {},
   "source": [
    "# 1. Variable Swap:  swap the values of two variables without using a temporary variable."
   ]
  },
  {
   "cell_type": "code",
   "execution_count": 1,
   "id": "569f0d8f-cb58-4615-b519-d6362736e938",
   "metadata": {},
   "outputs": [
    {
     "name": "stdin",
     "output_type": "stream",
     "text": [
      "enter the number 1: 29.3\n",
      "enter the number 2: 920.5\n"
     ]
    },
    {
     "name": "stdout",
     "output_type": "stream",
     "text": [
      "number 1 is : 920.5\n",
      "number 2 is : 29.3\n"
     ]
    }
   ],
   "source": [
    "\n",
    "a = float(input(\"enter the number 1:\"))\n",
    "b =float (input(\"enter the number 2:\"))\n",
    "\n",
    "\n",
    "#Swapping values\n",
    "a, b = b, a\n",
    "\n",
    "print(\"number 1 is :\", a)\n",
    "print(\"number 2 is :\", b)"
   ]
  },
  {
   "cell_type": "markdown",
   "id": "c55fdf2a-4d33-48c4-a430-88b739651c7f",
   "metadata": {},
   "source": [
    "# 2. Even or Odd:  takes an integer as input and prints whether it is even or odd."
   ]
  },
  {
   "cell_type": "code",
   "execution_count": 2,
   "id": "e32ab03a-c5dd-4ce2-8072-c89d481ee106",
   "metadata": {},
   "outputs": [
    {
     "name": "stdin",
     "output_type": "stream",
     "text": [
      "Enter a number:  59392\n"
     ]
    },
    {
     "name": "stdout",
     "output_type": "stream",
     "text": [
      "59392 is Even\n"
     ]
    }
   ],
   "source": [
    "\n",
    "num = int(input(\"Enter a number: \"))\n",
    "\n",
    "if (num % 2) == 0:\n",
    "    print(f\"{num} is Even\")\n",
    "else:\n",
    "    print(f\"{num} is Odd\")"
   ]
  },
  {
   "cell_type": "markdown",
   "id": "41d6f53e-8f9b-4bd6-966c-ab4dfe414347",
   "metadata": {},
   "source": [
    "# 3.String Reverse: function to reverse a given string and return the reversed string."
   ]
  },
  {
   "cell_type": "code",
   "execution_count": 3,
   "id": "a009b634-7b99-46b7-98a1-1f16e6b57804",
   "metadata": {},
   "outputs": [
    {
     "name": "stdin",
     "output_type": "stream",
     "text": [
      "enter any message: Do you want to data scientist ? follow my github repository!\n"
     ]
    },
    {
     "name": "stdout",
     "output_type": "stream",
     "text": [
      "Original String: Do you want to data scientist ? follow my github repository!\n",
      "Reversed String: !yrotisoper buhtig ym wollof ? tsitneics atad ot tnaw uoy oD\n"
     ]
    }
   ],
   "source": [
    "\n",
    "def reverse_string(s):\n",
    "    return s[::-1]\n",
    "\n",
    "original_string = input(\"enter any message:\")\n",
    "reversed_string = reverse_string(original_string)\n",
    "print(\"Original String:\", original_string)\n",
    "print(\"Reversed String:\", reversed_string)"
   ]
  },
  {
   "cell_type": "markdown",
   "id": "f42f4a03-5684-4680-ae24-652fec7e4881",
   "metadata": {},
   "source": [
    "# 4. Type Conversion: Given a list of integers,  to convert each element of the list to a string."
   ]
  },
  {
   "cell_type": "code",
   "execution_count": 4,
   "id": "b83371f4-5c3d-4b40-bfef-3c2938a38ff4",
   "metadata": {},
   "outputs": [
    {
     "name": "stdout",
     "output_type": "stream",
     "text": [
      "List of strings: ['1', '2', '3', '4', '5']\n"
     ]
    }
   ],
   "source": [
    "\n",
    "int_list = [1, 2, 3, 4, 5]\n",
    "\n",
    "str_list = [str(i) for i in int_list]\n",
    "\n",
    "print(\"List of strings:\", str_list)"
   ]
  },
  {
   "cell_type": "markdown",
   "id": "82661419-8331-4391-91fa-7664e7ab40b2",
   "metadata": {},
   "source": [
    "# 5. Temperature Converter:  converts a temperature in Celsius to Fahrenheit. Take the Celsius temperature as input from the user."
   ]
  },
  {
   "cell_type": "code",
   "execution_count": 5,
   "id": "bee64d44-8360-449a-b25a-1e9dd10e8ada",
   "metadata": {},
   "outputs": [
    {
     "name": "stdin",
     "output_type": "stream",
     "text": [
      "Enter temperature in Celsius:  35\n"
     ]
    },
    {
     "name": "stdout",
     "output_type": "stream",
     "text": [
      "35.0°C is equal to 95.0°F\n"
     ]
    }
   ],
   "source": [
    "\n",
    "celsius = float(input(\"Enter temperature in Celsius: \"))\n",
    "\n",
    "fahrenheit = (celsius * 9/5) + 32\n",
    "\n",
    "print(f\"{celsius}°C is equal to {fahrenheit}°F\")"
   ]
  },
  {
   "cell_type": "markdown",
   "id": "536885cb-f0b9-47e9-adbb-ed361348c335",
   "metadata": {},
   "source": [
    "# 6. Data Type Checker:  takes a variable as input and returns the data type of the variable as a string (e.g., “int”, “float”, “str”, “list”, etc.)."
   ]
  },
  {
   "cell_type": "code",
   "execution_count": 6,
   "id": "8f065a52-3ff1-4783-84c8-2fa93f75241a",
   "metadata": {},
   "outputs": [
    {
     "name": "stdout",
     "output_type": "stream",
     "text": [
      "int\n",
      "float\n",
      "str\n",
      "list\n",
      "tuple\n",
      "dict\n"
     ]
    }
   ],
   "source": [
    "\n",
    "def get_data_type(variable):\n",
    "    return type(variable).__name__\n",
    "\n",
    "\n",
    "print(get_data_type(10))          \n",
    "print(get_data_type(10.5))        \n",
    "print(get_data_type(\"Hello\"))     \n",
    "print(get_data_type([1, 2, 3]))  \n",
    "print(get_data_type((1, 2, 3)))  \n",
    "print(get_data_type({\"a\": 1}))  "
   ]
  },
  {
   "cell_type": "markdown",
   "id": "7c22ea14-402d-4a78-b594-537bad7caf62",
   "metadata": {},
   "source": [
    "# 7.  String Palindrome: function to check if a given string is a palindrome or not."
   ]
  },
  {
   "cell_type": "code",
   "execution_count": 60,
   "id": "7b4db320-84b2-445e-aa95-474851ba3bb3",
   "metadata": {},
   "outputs": [
    {
     "name": "stdin",
     "output_type": "stream",
     "text": [
      "Give any message: hei\n"
     ]
    },
    {
     "name": "stdout",
     "output_type": "stream",
     "text": [
      "False\n"
     ]
    }
   ],
   "source": [
    "def is_palindrome(s):\n",
    "    \n",
    "    cleaned_string = ''.join(char.lower() for char in s if char.isalnum())\n",
    "    \n",
    "    return cleaned_string == cleaned_string[::-1]\n",
    "\n",
    "string = input('Give any message:')\n",
    "print(is_palindrome(string)) "
   ]
  },
  {
   "cell_type": "markdown",
   "id": "bba6f3d8-149a-4fb6-b18d-1f23f9924009",
   "metadata": {},
   "source": [
    "# 8.String Reversal with Slicing:  function to reverse a given string using slicing."
   ]
  },
  {
   "cell_type": "code",
   "execution_count": 9,
   "id": "28187b13-e780-4eff-ab09-b222f571db4c",
   "metadata": {},
   "outputs": [
    {
     "name": "stdin",
     "output_type": "stream",
     "text": [
      "enter any message: Don't have you any work??\n"
     ]
    },
    {
     "name": "stdout",
     "output_type": "stream",
     "text": [
      "??krow yna uoy evah t'noD\n"
     ]
    }
   ],
   "source": [
    "def reverse_string(s):\n",
    "  \n",
    "    return s[::-1]\n",
    "\n",
    "\n",
    "string = input('enter any message:')\n",
    "print(reverse_string(string)) "
   ]
  },
  {
   "cell_type": "markdown",
   "id": "255ad27a-a415-4617-83c0-29a17495056b",
   "metadata": {},
   "source": [
    "# 9. String Concatenation:  takes two strings as input and concatenates them into a single string without using the `+` operator."
   ]
  },
  {
   "cell_type": "code",
   "execution_count": 11,
   "id": "9bf9481b-6bdb-492d-b2b3-d85806952940",
   "metadata": {},
   "outputs": [
    {
     "name": "stdin",
     "output_type": "stream",
     "text": [
      "Give any message you should concentration in your work \n",
      "Give more message If  you don't you will fail in present and afterr life both\n"
     ]
    },
    {
     "name": "stdout",
     "output_type": "stream",
     "text": [
      "you should concentration in your work If  you don't you will fail in present and afterr life both\n"
     ]
    }
   ],
   "source": [
    "\n",
    "def concatenate_strings(str1, str2):\n",
    "    join =str1+str2\n",
    "\n",
    "string1 = input(\"Give any message\")\n",
    "string2 = input(\"Give more message\")\n",
    "\n",
    "result = concatenate_strings(string1, string2)\n",
    "\n",
    "print(result) "
   ]
  },
  {
   "cell_type": "markdown",
   "id": "89de23bd-0e4b-46d2-90ba-c57696569291",
   "metadata": {},
   "source": [
    "# 10. Typecasting Challenge: Given three variables: `a = ‘100’`, `b = 25`, and `c = ‘10.5’`,  to perform the following operations and print the results: – Convert `a` to an integer and add it to `b`. – Convert `c` to a float and subtract it from the result of the first operation. – Convert the final result to a string and concatenate it with the string ” is the answer.”"
   ]
  },
  {
   "cell_type": "code",
   "execution_count": 12,
   "id": "d3135305-5a33-4c5b-8ec7-71092686250a",
   "metadata": {},
   "outputs": [
    {
     "name": "stdout",
     "output_type": "stream",
     "text": [
      "114.5 is the answer.\n"
     ]
    }
   ],
   "source": [
    "\n",
    "a = '100'\n",
    "b = 25\n",
    "c = '10.5'\n",
    "\n",
    "# Convert 'a' to an integer and add it to 'b'\n",
    "result1 = int(a) + b\n",
    "\n",
    "# Convert 'c' to a float and subtract it from the result of the first operation\n",
    "result2 = result1 - float(c)\n",
    "\n",
    "# Convert the final result to a string and concatenate it with the string \" is the answer.\"\n",
    "final_result = str(result2) + \" is the answer.\"\n",
    "\n",
    "print(final_result)"
   ]
  },
  {
   "cell_type": "markdown",
   "id": "f1af8efe-d579-4289-bb5e-b2a53a294bd3",
   "metadata": {},
   "source": [
    "# 11. Positive, Negative, or Zero: takes a number as input and prints whether it is positive, negative, or zero."
   ]
  },
  {
   "cell_type": "code",
   "execution_count": 13,
   "id": "055d01d4-ed68-4a63-b296-9d4ee20a02c6",
   "metadata": {},
   "outputs": [
    {
     "name": "stdin",
     "output_type": "stream",
     "text": [
      "Enter a number:  -593\n"
     ]
    },
    {
     "name": "stdout",
     "output_type": "stream",
     "text": [
      "Negative\n"
     ]
    }
   ],
   "source": [
    "\n",
    "def check_number(num):\n",
    "    if num > 0:\n",
    "        print(\"Positive\")\n",
    "    elif num < 0:\n",
    "        print(\"Negative\")\n",
    "    else:\n",
    "        print(\"Zero\")\n",
    "\n",
    "number = float(input(\"Enter a number: \"))\n",
    "\n",
    "check_number(number)"
   ]
  },
  {
   "cell_type": "markdown",
   "id": "918a663f-ec5d-4592-8508-1b340b3f92ba",
   "metadata": {},
   "source": [
    "# 12. Largest of Three Numbers: takes three numbers as input and prints the largest among them."
   ]
  },
  {
   "cell_type": "code",
   "execution_count": 14,
   "id": "f223479e-e61d-49d0-b0c5-2dc2231994ef",
   "metadata": {},
   "outputs": [
    {
     "name": "stdin",
     "output_type": "stream",
     "text": [
      "Enter the first number:  93.5\n",
      "Enter the second number:  20.3\n",
      "Enter the third number:  1050\n"
     ]
    },
    {
     "name": "stdout",
     "output_type": "stream",
     "text": [
      "The largest number is 1050.0\n"
     ]
    }
   ],
   "source": [
    "\n",
    "def find_largest(num1, num2, num3):\n",
    "    if num1 >= num2 and num1 >= num3:\n",
    "        return num1\n",
    "    elif num2 >= num1 and num2 >= num3:\n",
    "        return num2\n",
    "    else:\n",
    "        return num3\n",
    "\n",
    "number1 = float(input(\"Enter the first number: \"))\n",
    "number2 = float(input(\"Enter the second number: \"))\n",
    "number3 = float(input(\"Enter the third number: \"))\n",
    "\n",
    "largest = find_largest(number1, number2, number3)\n",
    "print(f\"The largest number is {largest}\")"
   ]
  },
  {
   "cell_type": "markdown",
   "id": "fcb26f06-f447-47fe-8ac0-418083bd2a15",
   "metadata": {},
   "source": [
    "# 13. Leap Year Checker:  takes a year as input and determines if it is a leap year or not."
   ]
  },
  {
   "cell_type": "code",
   "execution_count": 15,
   "id": "3c151267-f853-44d7-a480-7739fbb6d770",
   "metadata": {},
   "outputs": [
    {
     "name": "stdin",
     "output_type": "stream",
     "text": [
      "Enter a year:  2048\n"
     ]
    },
    {
     "name": "stdout",
     "output_type": "stream",
     "text": [
      "2048 is a leap year.\n"
     ]
    }
   ],
   "source": [
    "def is_leap_year(year):\n",
    "    \n",
    "    if (year % 4 == 0 and year % 100 != 0) or (year % 400 == 0):\n",
    "        return True\n",
    "    else:\n",
    "        return False\n",
    "\n",
    "\n",
    "year = int(input(\"Enter a year: \"))\n",
    "\n",
    "\n",
    "if is_leap_year(year):\n",
    "    print(f\"{year} is a leap year.\")\n",
    "else:\n",
    "    print(f\"{year} is not a leap year.\")"
   ]
  },
  {
   "cell_type": "markdown",
   "id": "866929a2-b227-4784-accd-0c5361a5e0bd",
   "metadata": {},
   "source": [
    "# 14. Grades Classification:  takes a student’s percentage as input and prints their corresponding grade according to the following criteria: – 90% or above: A+ – 80-89%: A – 70-79%: B – 60-69%: C – Below 60%: Fail"
   ]
  },
  {
   "cell_type": "code",
   "execution_count": 18,
   "id": "33f28e49-f022-428d-af23-0761816546f3",
   "metadata": {},
   "outputs": [
    {
     "name": "stdin",
     "output_type": "stream",
     "text": [
      "Enter the student's percentage:  85\n"
     ]
    },
    {
     "name": "stdout",
     "output_type": "stream",
     "text": [
      "The grade is: A\n"
     ]
    }
   ],
   "source": [
    " \n",
    "def classify_grade(percentage):\n",
    "    if percentage >= 90:\n",
    "        return \"A+\"\n",
    "    elif percentage >= 80:\n",
    "        return \"A\"\n",
    "    elif percentage >= 70:\n",
    "        return \"B\"\n",
    "    elif percentage >= 60:\n",
    "        return \"C\"\n",
    "    else:\n",
    "        return \"Fail\"\n",
    "\n",
    "percentage = float(input(\"Enter the student's percentage: \"))\n",
    "grade = classify_grade(percentage)\n",
    "print(f\"The grade is: {grade}\")"
   ]
  },
  {
   "cell_type": "markdown",
   "id": "8c81a869-3b7a-40e7-8b03-b42ae8d39678",
   "metadata": {},
   "source": [
    "# 15.  Vowel or Consonant:  takes a single character as input and determines whether it is a vowel or a consonant."
   ]
  },
  {
   "cell_type": "code",
   "execution_count": 59,
   "id": "3ccd4ffb-3ecc-4c6b-a66a-4d388c51a0e6",
   "metadata": {},
   "outputs": [
    {
     "name": "stdin",
     "output_type": "stream",
     "text": [
      "Enter a single character:  i\n"
     ]
    },
    {
     "name": "stdout",
     "output_type": "stream",
     "text": [
      "The character 'i' is a Vowel.\n"
     ]
    }
   ],
   "source": [
    "\n",
    "def check_vowel_or_consonant(char):\n",
    "\n",
    "    char = char.lower()\n",
    " \n",
    "    if char in 'aeiou':\n",
    "        return \"Vowel\"\n",
    "    else:\n",
    "        return \"Consonant\"\n",
    "\n",
    "\n",
    "character = input(\"Enter a single character: \")\n",
    "\n",
    "if character.isalpha() and len(character) == 1:\n",
    "    result = check_vowel_or_consonant(character)\n",
    "    print(f\"The character '{character}' is a {result}.\")\n",
    "else:\n",
    "    print(\"Please enter a valid single alphabetic character.\")\n",
    "    "
   ]
  },
  {
   "cell_type": "markdown",
   "id": "891ba71c-d3c9-43a2-b890-ffdd84a9d467",
   "metadata": {},
   "source": [
    "# 16. Time Classification:  takes the time in hours (24-hour format) as input and prints “Good Morning”, “Good Afternoon”, “Good Evening”, or “Good Night” based on the time."
   ]
  },
  {
   "cell_type": "code",
   "execution_count": 20,
   "id": "41b7f061-a06b-4e44-ace8-b862cf3b755e",
   "metadata": {},
   "outputs": [
    {
     "name": "stdin",
     "output_type": "stream",
     "text": [
      "Enter the time in hours (0-23):  23\n"
     ]
    },
    {
     "name": "stdout",
     "output_type": "stream",
     "text": [
      "Good Night\n"
     ]
    }
   ],
   "source": [
    "\n",
    "def classify_time(hour):\n",
    "    if 5 <= hour < 12:\n",
    "        return \"Good Morning\"\n",
    "    elif 12 <= hour < 17:\n",
    "        return \"Good Afternoon\"\n",
    "    elif 17 <= hour < 21:\n",
    "        return \"Good Evening\"\n",
    "    else:\n",
    "        return \"Good Night\"\n",
    "\n",
    "\n",
    "try:\n",
    "    hour = int(input(\"Enter the time in hours (0-23): \"))\n",
    "    if 0 <= hour <= 23:\n",
    "        greeting = classify_time(hour)\n",
    "        print(greeting)\n",
    "    else:\n",
    "        print(\"Please enter a valid hour between 0 and 23.\")\n",
    "except ValueError:\n",
    "    print(\"Please enter a valid integer.\")\n",
    "    "
   ]
  },
  {
   "cell_type": "markdown",
   "id": "04eaeadf-339b-4f36-898d-c198d31215e7",
   "metadata": {},
   "source": [
    "# 17. Triangle Type Checker:  takes three sides of a triangle as input and determines whether it forms an equilateral, isosceles, or scalene triangle."
   ]
  },
  {
   "cell_type": "code",
   "execution_count": 21,
   "id": "463805ff-1c25-4218-8a21-de7aa7b4bf37",
   "metadata": {},
   "outputs": [
    {
     "name": "stdin",
     "output_type": "stream",
     "text": [
      "Enter the length of the first side:  5\n",
      "Enter the length of the second side:  7\n",
      "Enter the length of the third side:  29\n"
     ]
    },
    {
     "name": "stdout",
     "output_type": "stream",
     "text": [
      "The triangle is Not a valid triangle.\n"
     ]
    }
   ],
   "source": [
    "\n",
    "def determine_triangle_type(a, b, c):\n",
    "    \n",
    "    if a + b > c and b + c > a and c + a > b:\n",
    "        if a == b == c:\n",
    "            return \"Equilateral\"\n",
    "        elif a == b or b == c or c == a:\n",
    "            return \"Isosceles\"\n",
    "        else:\n",
    "            return \"Scalene\"\n",
    "    else:\n",
    "        return \"Not a valid triangle\"\n",
    "\n",
    "side1 = float(input(\"Enter the length of the first side: \"))\n",
    "side2 = float(input(\"Enter the length of the second side: \"))\n",
    "side3 = float(input(\"Enter the length of the third side: \"))\n",
    "\n",
    "triangle_type = determine_triangle_type(side1, side2, side3)\n",
    "print(f\"The triangle is {triangle_type}.\")"
   ]
  },
  {
   "cell_type": "markdown",
   "id": "ed39dfcd-1f3d-4e35-a9ac-d36c29c6ccc4",
   "metadata": {},
   "source": [
    "# 18. Quadratic Equation Solver:  takes the coefficients (a, b, c) of a quadratic equation as input and calculates and prints the real roots (if they exist) or a message indicating the complex roots."
   ]
  },
  {
   "cell_type": "code",
   "execution_count": 22,
   "id": "26f63cc1-0a9b-494d-b49e-0c1a21548edb",
   "metadata": {},
   "outputs": [
    {
     "name": "stdin",
     "output_type": "stream",
     "text": [
      "Enter the coefficient a:  3\n",
      "Enter the coefficient b:  5\n",
      "Enter the coefficient c:  7\n"
     ]
    },
    {
     "name": "stdout",
     "output_type": "stream",
     "text": [
      "The solutions are (-0.8333333333333334-1.2801909579781012j) and (-0.8333333333333334+1.2801909579781012j)\n"
     ]
    }
   ],
   "source": [
    "import cmath\n",
    "\n",
    "def solve_quadratic(a, b, c):\n",
    "    \n",
    "    discriminant = b**2 - 4*a*c\n",
    "    \n",
    "    root1 = (-b - cmath.sqrt(discriminant)) / (2*a)\n",
    "    root2 = (-b + cmath.sqrt(discriminant)) / (2*a)\n",
    "    \n",
    "    return root1, root2\n",
    "\n",
    "a = float(input(\"Enter the coefficient a: \"))\n",
    "b = float(input(\"Enter the coefficient b: \"))\n",
    "c = float(input(\"Enter the coefficient c: \"))\n",
    "\n",
    "root1, root2 = solve_quadratic(a, b, c)\n",
    "\n",
    "print(f\"The solutions are {root1} and {root2}\")"
   ]
  },
  {
   "cell_type": "markdown",
   "id": "e7975883-9830-4a4c-a2eb-7c7bcf86b566",
   "metadata": {},
   "source": [
    "# 19. Number Ranges:  takes an integer as input and prints whether the number falls within the ranges: 0-50, 51-100, 101-150, or above 150."
   ]
  },
  {
   "cell_type": "code",
   "execution_count": 23,
   "id": "24f6d729-e093-4d5a-836b-51c70f2c79bd",
   "metadata": {},
   "outputs": [
    {
     "name": "stdin",
     "output_type": "stream",
     "text": [
      "Enter an integer:  89\n"
     ]
    },
    {
     "name": "stdout",
     "output_type": "stream",
     "text": [
      "The number falls within the range 51-100.\n"
     ]
    }
   ],
   "source": [
    "def classify_number_range(num):\n",
    "    if 0 <= num <= 50:\n",
    "        return \"The number falls within the range 0-50.\"\n",
    "    elif 51 <= num <= 100:\n",
    "        return \"The number falls within the range 51-100.\"\n",
    "    elif 101 <= num <= 150:\n",
    "        return \"The number falls within the range 101-150.\"\n",
    "    elif num > 150:\n",
    "        return \"The number is above 150.\"\n",
    "    else:\n",
    "        return \"The number is below 0.\"\n",
    "\n",
    "\n",
    "try:\n",
    "    number = int(input(\"Enter an integer: \"))\n",
    "    result = classify_number_range(number)\n",
    "    print(result)\n",
    "except ValueError:\n",
    "    print(\"Please enter a valid integer.\")"
   ]
  },
  {
   "cell_type": "markdown",
   "id": "5a876097-1f00-4de9-9a05-074a2d76cf30",
   "metadata": {},
   "source": [
    "# 20. Sum of N Numbers: using a for loop to calculate the sum of the first N natural numbers, where N is taken as input from the user."
   ]
  },
  {
   "cell_type": "code",
   "execution_count": 24,
   "id": "fbb606e6-ea60-45fb-9eff-1340743d49ee",
   "metadata": {},
   "outputs": [
    {
     "name": "stdin",
     "output_type": "stream",
     "text": [
      "Enter a natural number:  50\n"
     ]
    },
    {
     "name": "stdout",
     "output_type": "stream",
     "text": [
      "The sum of the first 50 natural numbers is: 1275\n"
     ]
    }
   ],
   "source": [
    "def sum_of_n_numbers(n):\n",
    "    total_sum = 0\n",
    "    for i in range(1, n + 1):\n",
    "        total_sum += i\n",
    "    return total_sum\n",
    "\n",
    "\n",
    "try:\n",
    "    N = int(input(\"Enter a natural number: \"))\n",
    "    if N > 0:\n",
    "        result = sum_of_n_numbers(N)\n",
    "        print(f\"The sum of the first {N} natural numbers is: {result}\")\n",
    "    else:\n",
    "        print(\"Please enter a positive integer.\")\n",
    "except ValueError:\n",
    "    print(\"Please enter a valid integer.\")\n",
    "    "
   ]
  },
  {
   "cell_type": "markdown",
   "id": "5ca13e30-a9af-478c-9449-2eabb97f90b4",
   "metadata": {},
   "source": [
    "# 21. Factorial Calculator:  using a while loop to calculate the factorial of a given number N."
   ]
  },
  {
   "cell_type": "code",
   "execution_count": 25,
   "id": "1a6da7e1-8a8e-458a-988a-069dc3638997",
   "metadata": {},
   "outputs": [
    {
     "name": "stdin",
     "output_type": "stream",
     "text": [
      "Enter a non-negative integer:  5\n"
     ]
    },
    {
     "name": "stdout",
     "output_type": "stream",
     "text": [
      "The factorial of 5 is 120\n"
     ]
    }
   ],
   "source": [
    "def factorial(n):\n",
    "    result = 1\n",
    "    while n > 0:\n",
    "        result *= n\n",
    "        n -= 1\n",
    "    return result\n",
    "\n",
    "\n",
    "try:\n",
    "    N = int(input(\"Enter a non-negative integer: \"))\n",
    "    if N >= 0:\n",
    "        print(f\"The factorial of {N} is {factorial(N)}\")\n",
    "    else:\n",
    "        print(\"Please enter a non-negative integer.\")\n",
    "except ValueError:\n",
    "    print(\"Please enter a valid integer.\")"
   ]
  },
  {
   "cell_type": "markdown",
   "id": "833631c2-d327-4779-b289-d95820f42c06",
   "metadata": {},
   "source": [
    "# 22. Table of a Number:  using a for loop to print the multiplication table of a given number N."
   ]
  },
  {
   "cell_type": "code",
   "execution_count": 1,
   "id": "ad80c674-88a7-4911-a3ca-47ebcc3d0bed",
   "metadata": {},
   "outputs": [
    {
     "name": "stdin",
     "output_type": "stream",
     "text": [
      "Enter a number:  3\n"
     ]
    },
    {
     "name": "stdout",
     "output_type": "stream",
     "text": [
      "3 x 1 = 3\n",
      "3 x 2 = 6\n",
      "3 x 3 = 9\n",
      "3 x 4 = 12\n",
      "3 x 5 = 15\n",
      "3 x 6 = 18\n",
      "3 x 7 = 21\n",
      "3 x 8 = 24\n",
      "3 x 9 = 27\n",
      "3 x 10 = 30\n"
     ]
    }
   ],
   "source": [
    "# Function to print the multiplication table of a given number N\n",
    "def print_multiplication_table(N):\n",
    "    for i in range(1, 11):\n",
    "        print(f\"{N} x {i} = {N * i}\")\n",
    "\n",
    "N = int(input(\"Enter a number: \"))\n",
    "print_multiplication_table(N)"
   ]
  },
  {
   "cell_type": "markdown",
   "id": "01088291-b122-42c7-b772-50dd6448916f",
   "metadata": {},
   "source": [
    "# 23. Count Digits in a Number:  using a while loop to count the number of digits in a given integer N."
   ]
  },
  {
   "cell_type": "code",
   "execution_count": 2,
   "id": "ff932446-258a-48ec-821b-8fa975ef6a50",
   "metadata": {},
   "outputs": [
    {
     "name": "stdin",
     "output_type": "stream",
     "text": [
      "Enter a number:  2347883\n"
     ]
    },
    {
     "name": "stdout",
     "output_type": "stream",
     "text": [
      "Number of digits: 7\n"
     ]
    }
   ],
   "source": [
    "# Function to count the number of digits in a given number N\n",
    "def count_digits(N):\n",
    "    count = 0\n",
    "    while N != 0:\n",
    "        N //= 10\n",
    "        count += 1\n",
    "    return count\n",
    "\n",
    "N = int(input(\"Enter a number: \"))\n",
    "print(f\"Number of digits: {count_digits(N)}\")"
   ]
  },
  {
   "cell_type": "markdown",
   "id": "047aae11-c276-4caa-8a9c-2b1314af1c8c",
   "metadata": {},
   "source": [
    "# 24. Fibonacci Sequence: using a for loop to generate the Fibonacci sequence up to a given limit N."
   ]
  },
  {
   "cell_type": "code",
   "execution_count": 3,
   "id": "eebe27e5-df38-421f-9c3a-3b44e81a2778",
   "metadata": {},
   "outputs": [
    {
     "name": "stdin",
     "output_type": "stream",
     "text": [
      "Enter the limit:  10\n"
     ]
    },
    {
     "name": "stdout",
     "output_type": "stream",
     "text": [
      "0 1 1 2 3 5 8 13 21 34 "
     ]
    }
   ],
   "source": [
    "# Function to generate the Fibonacci sequence up to a given limit N\n",
    "def fibonacci_sequence(N):\n",
    "    a, b = 0, 1\n",
    "    for _ in range(N):\n",
    "        print(a, end=\" \")\n",
    "        a, b = b, a + b\n",
    "\n",
    "\n",
    "N = int(input(\"Enter the limit: \"))\n",
    "fibonacci_sequence(N)"
   ]
  },
  {
   "cell_type": "markdown",
   "id": "200740f4-b3dd-4a1d-97a7-2a5aa2f3b329",
   "metadata": {},
   "source": [
    "# 25.  Sum of Even Numbers: using a while loop to calculate the sum of all even numbers between 1 and N, where N is taken as input from the user."
   ]
  },
  {
   "cell_type": "code",
   "execution_count": null,
   "id": "1d0535e9-1586-4836-8c3a-02b492d6dc69",
   "metadata": {},
   "outputs": [],
   "source": [
    "# Function to calculate the sum of all even numbers between 1 and N\n",
    "def sum_of_even_numbers(N):\n",
    "    sum_even = 0\n",
    "    num = 1\n",
    "    while num <= N:\n",
    "        if num % 2 == 0:\n",
    "            sum_even += num\n",
    "        num += 1\n",
    "    return sum_even\n",
    "\n",
    "\n",
    "N = int(input(\"Enter a number: \"))\n",
    "print(f\"Sum of even numbers between 1 and {N} is: {sum_of_even_numbers(N)}\")"
   ]
  },
  {
   "cell_type": "markdown",
   "id": "bf66b100-124e-473c-b302-e4aee6955cb7",
   "metadata": {},
   "source": [
    "# 26.  Print Patterns:  using nested for loops to print various patterns, such as a right-angled triangle, an inverted right-angled triangle, and so on."
   ]
  },
  {
   "cell_type": "code",
   "execution_count": 1,
   "id": "508c5cbf-b9d9-4107-89e5-efc01631a39b",
   "metadata": {},
   "outputs": [
    {
     "name": "stdin",
     "output_type": "stream",
     "text": [
      "Enter the number of rows:  5\n"
     ]
    },
    {
     "name": "stdout",
     "output_type": "stream",
     "text": [
      "* \n",
      "* * \n",
      "* * * \n",
      "* * * * \n",
      "* * * * * \n"
     ]
    }
   ],
   "source": [
    "# Right-Angled Triangle\n",
    "\n",
    "rows = int(input(\"Enter the number of rows: \"))\n",
    "for i in range(1, rows + 1):\n",
    "    for j in range(1, i + 1):\n",
    "        print(\"*\", end=\" \")\n",
    "    print()\n",
    "    "
   ]
  },
  {
   "cell_type": "code",
   "execution_count": 2,
   "id": "703b0631-37ec-4c79-8709-1cd2c0a3aeff",
   "metadata": {},
   "outputs": [
    {
     "name": "stdin",
     "output_type": "stream",
     "text": [
      "Enter the number of rows:  7\n"
     ]
    },
    {
     "name": "stdout",
     "output_type": "stream",
     "text": [
      "* * * * * * * \n",
      "* * * * * * \n",
      "* * * * * \n",
      "* * * * \n",
      "* * * \n",
      "* * \n",
      "* \n"
     ]
    }
   ],
   "source": [
    "# Inverted Right-Angled Triangle\n",
    "\n",
    "rows = int(input(\"Enter the number of rows: \"))\n",
    "for i in range(rows, 0, -1):\n",
    "    for j in range(1, i + 1):\n",
    "        print(\"*\", end=\" \")\n",
    "    print()"
   ]
  },
  {
   "cell_type": "code",
   "execution_count": 3,
   "id": "81853d8f-5ec4-43ee-9bc3-999f7e560455",
   "metadata": {},
   "outputs": [
    {
     "name": "stdin",
     "output_type": "stream",
     "text": [
      "Enter the number of rows:  8\n"
     ]
    },
    {
     "name": "stdout",
     "output_type": "stream",
     "text": [
      "              * \n",
      "            * * * \n",
      "          * * * * * \n",
      "        * * * * * * * \n",
      "      * * * * * * * * * \n",
      "    * * * * * * * * * * * \n",
      "  * * * * * * * * * * * * * \n",
      "* * * * * * * * * * * * * * * \n"
     ]
    }
   ],
   "source": [
    "# Pyramid Pattern\n",
    "rows = int(input(\"Enter the number of rows: \"))\n",
    "for i in range(1, rows + 1):\n",
    "    for j in range(rows - i):\n",
    "        print(\" \", end=\" \")\n",
    "    for k in range(2 * i - 1):\n",
    "        print(\"*\", end=\" \")\n",
    "    print()\n"
   ]
  },
  {
   "cell_type": "code",
   "execution_count": 4,
   "id": "c3863bb6-12a4-4012-85ba-7e9ef3c4073c",
   "metadata": {},
   "outputs": [
    {
     "name": "stdin",
     "output_type": "stream",
     "text": [
      "Enter the number of rows:  9\n"
     ]
    },
    {
     "name": "stdout",
     "output_type": "stream",
     "text": [
      "                * \n",
      "              * * * \n",
      "            * * * * * \n",
      "          * * * * * * * \n",
      "        * * * * * * * * * \n",
      "      * * * * * * * * * * * \n",
      "    * * * * * * * * * * * * * \n",
      "  * * * * * * * * * * * * * * * \n",
      "* * * * * * * * * * * * * * * * * \n",
      "  * * * * * * * * * * * * * * * \n",
      "    * * * * * * * * * * * * * \n",
      "      * * * * * * * * * * * \n",
      "        * * * * * * * * * \n",
      "          * * * * * * * \n",
      "            * * * * * \n",
      "              * * * \n",
      "                * \n"
     ]
    }
   ],
   "source": [
    "# Diamond Pattern\n",
    "\n",
    "rows = int(input(\"Enter the number of rows: \"))\n",
    "# Upper part\n",
    "for i in range(1, rows + 1):\n",
    "    for j in range(rows - i):\n",
    "        print(\" \", end=\" \")\n",
    "    for k in range(2 * i - 1):\n",
    "        print(\"*\", end=\" \")\n",
    "    print()\n",
    "# Lower part\n",
    "for i in range(rows - 1, 0, -1):\n",
    "    for j in range(rows - i):\n",
    "        print(\" \", end=\" \")\n",
    "    for k in range(2 * i - 1):\n",
    "        print(\"*\", end=\" \")\n",
    "    print()\n"
   ]
  },
  {
   "cell_type": "markdown",
   "id": "4d240cd4-ce0d-465d-b8af-7b8a6f703f95",
   "metadata": {},
   "source": [
    "# 27.  Prime Number Checker:  using a while loop to check if a given number N is prime or not."
   ]
  },
  {
   "cell_type": "code",
   "execution_count": 8,
   "id": "99934a92-9b8c-43b2-9ffa-fe1b0068c308",
   "metadata": {},
   "outputs": [
    {
     "name": "stdin",
     "output_type": "stream",
     "text": [
      "Enter a number:  33\n"
     ]
    },
    {
     "name": "stdout",
     "output_type": "stream",
     "text": [
      "33 is not a prime number.\n"
     ]
    }
   ],
   "source": [
    "\n",
    "def is_prime(n):\n",
    "    if n <= 1:\n",
    "        return False\n",
    "    i = 2\n",
    "    while i * i <= n:\n",
    "        if n % i == 0:\n",
    "            return False\n",
    "        i += 1\n",
    "    return True\n",
    "\n",
    "number = int(input(\"Enter a number: \"))\n",
    "\n",
    "\n",
    "if is_prime(number):\n",
    "    print(f\"{number} is a prime number.\")\n",
    "else:\n",
    "    print(f\"{number} is not a prime number.\")"
   ]
  },
  {
   "cell_type": "markdown",
   "id": "1dd38990-16d3-48bc-b46f-0492dc7f3e8f",
   "metadata": {},
   "source": [
    "# 28. List Manipulation: Given a list of integers,  using a for loop to find the sum, average, maximum, and minimum values in the list."
   ]
  },
  {
   "cell_type": "code",
   "execution_count": 9,
   "id": "9b4ce3e8-1d21-48d0-b563-45e515ea066b",
   "metadata": {},
   "outputs": [
    {
     "name": "stdout",
     "output_type": "stream",
     "text": [
      "Sum: 286\n",
      "Average: 35.75\n",
      "Maximum: 62\n",
      "Minimum: 9\n"
     ]
    }
   ],
   "source": [
    "\n",
    "def list_manipulation(lst):\n",
    "    total_sum = 0\n",
    "    max_value = lst[0]\n",
    "    min_value = lst[0]\n",
    "    \n",
    "    for num in lst:\n",
    "        total_sum += num\n",
    "        if num > max_value:\n",
    "            max_value = num\n",
    "        if num < min_value:\n",
    "            min_value = num\n",
    "    \n",
    "    average = total_sum / len(lst)\n",
    "    \n",
    "    return total_sum, average, max_value, min_value\n",
    "\n",
    "\n",
    "numbers = [15, 9, 55, 41, 35, 20, 62, 49]\n",
    "\n",
    "\n",
    "total_sum, average, max_value, min_value = list_manipulation(numbers)\n",
    "print(f\"Sum: {total_sum}\")\n",
    "print(f\"Average: {average}\")\n",
    "print(f\"Maximum: {max_value}\")\n",
    "print(f\"Minimum: {min_value}\")"
   ]
  },
  {
   "cell_type": "markdown",
   "id": "11d83dad-da5d-4fd0-ae59-ac9e1fe451d1",
   "metadata": {},
   "source": [
    "# 29. Reverse String:  using a while loop to reverse a given string."
   ]
  },
  {
   "cell_type": "code",
   "execution_count": 10,
   "id": "e67fd940-6cde-444c-b4e4-3c281e60e5bf",
   "metadata": {},
   "outputs": [
    {
     "name": "stdin",
     "output_type": "stream",
     "text": [
      "Enter a string:  hie\n"
     ]
    },
    {
     "name": "stdout",
     "output_type": "stream",
     "text": [
      "The reversed string is: eih\n"
     ]
    }
   ],
   "source": [
    "\n",
    "def reverse_string(s):\n",
    "    reversed_str = \"\"\n",
    "    index = len(s) - 1\n",
    "    \n",
    "    while index >= 0:\n",
    "        reversed_str += s[index]\n",
    "        index -= 1\n",
    "    \n",
    "    return reversed_str\n",
    "\n",
    "\n",
    "string = input(\"Enter a string: \")\n",
    "\n",
    "\n",
    "reversed_string = reverse_string(string)\n",
    "print(f\"The reversed string is: {reversed_string}\")"
   ]
  },
  {
   "cell_type": "markdown",
   "id": "8cc589e5-e719-47f1-aef4-ede9363ec23c",
   "metadata": {},
   "source": [
    "# 30.  Multiplication Table: using nested loops to print the multiplication table from 1 to 10."
   ]
  },
  {
   "cell_type": "code",
   "execution_count": 11,
   "id": "799a0c20-8643-46bf-a9ad-7910bb240236",
   "metadata": {},
   "outputs": [
    {
     "name": "stdout",
     "output_type": "stream",
     "text": [
      "\n",
      "Multiplication Table for 1\n",
      "1 x 1 = 1\n",
      "1 x 2 = 2\n",
      "1 x 3 = 3\n",
      "1 x 4 = 4\n",
      "1 x 5 = 5\n",
      "1 x 6 = 6\n",
      "1 x 7 = 7\n",
      "1 x 8 = 8\n",
      "1 x 9 = 9\n",
      "1 x 10 = 10\n",
      "\n",
      "Multiplication Table for 2\n",
      "2 x 1 = 2\n",
      "2 x 2 = 4\n",
      "2 x 3 = 6\n",
      "2 x 4 = 8\n",
      "2 x 5 = 10\n",
      "2 x 6 = 12\n",
      "2 x 7 = 14\n",
      "2 x 8 = 16\n",
      "2 x 9 = 18\n",
      "2 x 10 = 20\n",
      "\n",
      "Multiplication Table for 3\n",
      "3 x 1 = 3\n",
      "3 x 2 = 6\n",
      "3 x 3 = 9\n",
      "3 x 4 = 12\n",
      "3 x 5 = 15\n",
      "3 x 6 = 18\n",
      "3 x 7 = 21\n",
      "3 x 8 = 24\n",
      "3 x 9 = 27\n",
      "3 x 10 = 30\n",
      "\n",
      "Multiplication Table for 4\n",
      "4 x 1 = 4\n",
      "4 x 2 = 8\n",
      "4 x 3 = 12\n",
      "4 x 4 = 16\n",
      "4 x 5 = 20\n",
      "4 x 6 = 24\n",
      "4 x 7 = 28\n",
      "4 x 8 = 32\n",
      "4 x 9 = 36\n",
      "4 x 10 = 40\n",
      "\n",
      "Multiplication Table for 5\n",
      "5 x 1 = 5\n",
      "5 x 2 = 10\n",
      "5 x 3 = 15\n",
      "5 x 4 = 20\n",
      "5 x 5 = 25\n",
      "5 x 6 = 30\n",
      "5 x 7 = 35\n",
      "5 x 8 = 40\n",
      "5 x 9 = 45\n",
      "5 x 10 = 50\n",
      "\n",
      "Multiplication Table for 6\n",
      "6 x 1 = 6\n",
      "6 x 2 = 12\n",
      "6 x 3 = 18\n",
      "6 x 4 = 24\n",
      "6 x 5 = 30\n",
      "6 x 6 = 36\n",
      "6 x 7 = 42\n",
      "6 x 8 = 48\n",
      "6 x 9 = 54\n",
      "6 x 10 = 60\n",
      "\n",
      "Multiplication Table for 7\n",
      "7 x 1 = 7\n",
      "7 x 2 = 14\n",
      "7 x 3 = 21\n",
      "7 x 4 = 28\n",
      "7 x 5 = 35\n",
      "7 x 6 = 42\n",
      "7 x 7 = 49\n",
      "7 x 8 = 56\n",
      "7 x 9 = 63\n",
      "7 x 10 = 70\n",
      "\n",
      "Multiplication Table for 8\n",
      "8 x 1 = 8\n",
      "8 x 2 = 16\n",
      "8 x 3 = 24\n",
      "8 x 4 = 32\n",
      "8 x 5 = 40\n",
      "8 x 6 = 48\n",
      "8 x 7 = 56\n",
      "8 x 8 = 64\n",
      "8 x 9 = 72\n",
      "8 x 10 = 80\n",
      "\n",
      "Multiplication Table for 9\n",
      "9 x 1 = 9\n",
      "9 x 2 = 18\n",
      "9 x 3 = 27\n",
      "9 x 4 = 36\n",
      "9 x 5 = 45\n",
      "9 x 6 = 54\n",
      "9 x 7 = 63\n",
      "9 x 8 = 72\n",
      "9 x 9 = 81\n",
      "9 x 10 = 90\n",
      "\n",
      "Multiplication Table for 10\n",
      "10 x 1 = 10\n",
      "10 x 2 = 20\n",
      "10 x 3 = 30\n",
      "10 x 4 = 40\n",
      "10 x 5 = 50\n",
      "10 x 6 = 60\n",
      "10 x 7 = 70\n",
      "10 x 8 = 80\n",
      "10 x 9 = 90\n",
      "10 x 10 = 100\n"
     ]
    }
   ],
   "source": [
    "# Function to print multiplication tables from 1 to 10\n",
    "def print_multiplication_tables():\n",
    "    for i in range(1, 11):\n",
    "        print(f\"\\nMultiplication Table for {i}\")\n",
    "        for j in range(1, 11):\n",
    "            print(f\"{i} x {j} = {i * j}\")\n",
    "\n",
    "print_multiplication_tables()"
   ]
  },
  {
   "cell_type": "markdown",
   "id": "bc16bca4-cb01-49f3-93f5-a1a2aefff618",
   "metadata": {},
   "source": [
    "# 31. Print Patterns:  using nested loops to print the following pattern:\n",
    "*\n",
    "**\n",
    "***\n",
    "****\n",
    "*****"
   ]
  },
  {
   "cell_type": "code",
   "execution_count": 12,
   "id": "e3819d37-f962-43dc-a19b-284be299a16c",
   "metadata": {},
   "outputs": [
    {
     "name": "stdout",
     "output_type": "stream",
     "text": [
      "*\n",
      "**\n",
      "***\n",
      "****\n",
      "*****\n"
     ]
    }
   ],
   "source": [
    "# Function to print the pattern\n",
    "def print_pattern(rows):\n",
    "    for i in range(1, rows + 1):\n",
    "        for j in range(i):\n",
    "            print(\"*\", end=\"\")\n",
    "        print()\n",
    "\n",
    "\n",
    "rows = 5\n",
    "\n",
    "print_pattern(rows)"
   ]
  },
  {
   "cell_type": "markdown",
   "id": "48311425-6f91-455b-a15e-8247a1632ca4",
   "metadata": {},
   "source": [
    "# 32. Matrix Multiplication: using nested loops to multiply two matrices."
   ]
  },
  {
   "cell_type": "code",
   "execution_count": 1,
   "id": "3bcb702a-6a94-4fb3-833f-799f8e95ec75",
   "metadata": {},
   "outputs": [
    {
     "name": "stdout",
     "output_type": "stream",
     "text": [
      "[30, 24, 18]\n",
      "[84, 69, 54]\n",
      "[138, 114, 90]\n"
     ]
    }
   ],
   "source": [
    "\n",
    "def matrix_multiply(A, B):\n",
    "    \n",
    "    rows_A = len(A)\n",
    "    cols_A = len(A[0])\n",
    "    rows_B = len(B)\n",
    "    cols_B = len(B[0])\n",
    "\n",
    "  \n",
    "    if cols_A != rows_B:\n",
    "        raise ValueError(\"Number of columns in A must be equal to number of rows in B\")\n",
    "\n",
    "    result = [[0 for _ in range(cols_B)] for _ in range(rows_A)]\n",
    "\n",
    "    for i in range(rows_A):\n",
    "        for j in range(cols_B):\n",
    "            for k in range(cols_A):\n",
    "                result[i][j] += A[i][k] * B[k][j]\n",
    "\n",
    "    return result\n",
    "\n",
    "A = [\n",
    "    [1, 2, 3],\n",
    "    [4, 5, 6],\n",
    "    [7, 8, 9]\n",
    "]\n",
    "\n",
    "B = [\n",
    "    [9, 8, 7],\n",
    "    [6, 5, 4],\n",
    "    [3, 2, 1]\n",
    "]\n",
    "\n",
    "result = matrix_multiply(A, B)\n",
    "\n",
    "for row in result:\n",
    "    print(row)"
   ]
  },
  {
   "cell_type": "markdown",
   "id": "f45a6fea-9dbd-4746-83c1-b190918e9182",
   "metadata": {},
   "source": [
    "# 33. Chessboard Pattern:  using nested loops to print a chessboard pattern (alternating “X” and “O” characters) of size 8×8.34. Number Pyramid: using nested loops to print a number pyramid like the following: 1 22 333 4444 55555"
   ]
  },
  {
   "cell_type": "code",
   "execution_count": 2,
   "id": "c1eda971-69de-4c17-a21f-0dc8dd0d0e4f",
   "metadata": {},
   "outputs": [
    {
     "name": "stdout",
     "output_type": "stream",
     "text": [
      "X O X O X O X O \n",
      "O X O X O X O X \n",
      "X O X O X O X O \n",
      "O X O X O X O X \n",
      "X O X O X O X O \n",
      "O X O X O X O X \n",
      "X O X O X O X O \n",
      "O X O X O X O X \n"
     ]
    }
   ],
   "source": [
    "# Function to print an 8x8 chessboard pattern\n",
    "def print_chessboard():\n",
    "    size = 8\n",
    "    for i in range(size):\n",
    "        for j in range(size):\n",
    "            if (i + j) % 2 == 0:\n",
    "                print(\"X\", end=\" \")\n",
    "            else:\n",
    "                print(\"O\", end=\" \")\n",
    "        print()\n",
    "\n",
    "\n",
    "print_chessboard()"
   ]
  },
  {
   "cell_type": "code",
   "execution_count": 3,
   "id": "175cd0b8-7408-443a-a333-b950e3bdd0f1",
   "metadata": {},
   "outputs": [
    {
     "name": "stdout",
     "output_type": "stream",
     "text": [
      "1\n",
      "22\n",
      "333\n",
      "4444\n",
      "55555\n"
     ]
    }
   ],
   "source": [
    "# Function to print a number pyramid\n",
    "def print_number_pyramid(rows):\n",
    "    for i in range(1, rows + 1):\n",
    "        print(str(i) * i)\n",
    "\n",
    "print_number_pyramid(5)"
   ]
  },
  {
   "cell_type": "markdown",
   "id": "790f6a7e-7242-42ad-90b7-4fcbbd5ac063",
   "metadata": {},
   "source": [
    "# 34. List Sum: to find the sum of all elements in a given list of integers."
   ]
  },
  {
   "cell_type": "code",
   "execution_count": 4,
   "id": "cb1ab008-11d4-499f-a651-b4433709870d",
   "metadata": {},
   "outputs": [
    {
     "name": "stdout",
     "output_type": "stream",
     "text": [
      "Sum of all elements in the list: 15\n"
     ]
    }
   ],
   "source": [
    "\n",
    "def sum_of_list(lst):\n",
    "    total = 0\n",
    "    for num in lst:\n",
    "        total += num\n",
    "    return total\n",
    "\n",
    "\n",
    "numbers = [1, 2, 3, 4, 5]\n",
    "\n",
    "result = sum_of_list(numbers)\n",
    "\n",
    "print(\"Sum of all elements in the list:\", result)"
   ]
  },
  {
   "cell_type": "markdown",
   "id": "75f4eb87-000f-4390-ac82-45e32eb35903",
   "metadata": {},
   "source": [
    "# 35. List Average: calculate the average of all elements in a given list of integers."
   ]
  },
  {
   "cell_type": "code",
   "execution_count": 5,
   "id": "eafd8329-e594-4aac-bb9c-083dbd0d74ff",
   "metadata": {},
   "outputs": [
    {
     "name": "stdout",
     "output_type": "stream",
     "text": [
      "Average of all elements in the list: 3.0\n"
     ]
    }
   ],
   "source": [
    "\n",
    "def calculate_average(lst):\n",
    "    if not lst:\n",
    "        return 0  \n",
    "    total = sum(lst)\n",
    "    count = len(lst)\n",
    "    average = total / count\n",
    "    return average\n",
    "\n",
    "numbers = [1, 2, 3, 4, 5]\n",
    "\n",
    "result = calculate_average(numbers)\n",
    "\n",
    "print(\"Average of all elements in the list:\", result)"
   ]
  },
  {
   "cell_type": "markdown",
   "id": "a8a07cf2-0aac-4f2f-bada-124cf73a8a3e",
   "metadata": {},
   "source": [
    "# 36. List Max and Min: to find the maximum and minimum values in a given list of integers."
   ]
  },
  {
   "cell_type": "code",
   "execution_count": 6,
   "id": "2a8b7370-c078-43a5-bcb4-ab22fa147af0",
   "metadata": {},
   "outputs": [
    {
     "name": "stdout",
     "output_type": "stream",
     "text": [
      "Maximum value in the list: 9\n",
      "Minimum value in the list: 1\n"
     ]
    }
   ],
   "source": [
    "def find_max_min(lst):\n",
    "    if not lst:\n",
    "        return None, None  \n",
    "    max_val = lst[0]\n",
    "    min_val = lst[0]\n",
    "    for num in lst:\n",
    "        if num > max_val:\n",
    "            max_val = num\n",
    "        if num < min_val:\n",
    "            min_val = num\n",
    "    return max_val, min_val\n",
    "\n",
    "numbers = [3, 1, 4, 1, 5, 9, 2, 6, 5, 3, 5]\n",
    "\n",
    "max_value, min_value = find_max_min(numbers)\n",
    "\n",
    "print(\"Maximum value in the list:\", max_value)\n",
    "print(\"Minimum value in the list:\", min_value)"
   ]
  },
  {
   "cell_type": "markdown",
   "id": "813d72a2-84bf-4c87-a188-c64007d5e4c6",
   "metadata": {},
   "source": [
    "# 37.List Sorting:  sort a list of integers in ascending order."
   ]
  },
  {
   "cell_type": "code",
   "execution_count": 7,
   "id": "c58edfa6-6043-45fc-b622-70a460982624",
   "metadata": {},
   "outputs": [
    {
     "name": "stdout",
     "output_type": "stream",
     "text": [
      "Sorted list in ascending order: [1, 1, 2, 3, 3, 4, 5, 5, 5, 6, 9]\n"
     ]
    }
   ],
   "source": [
    "def sort_list(lst):\n",
    "    lst.sort()\n",
    "    return lst\n",
    "\n",
    "numbers = [3, 1, 4, 1, 5, 9, 2, 6, 5, 3, 5]\n",
    "\n",
    "sorted_numbers = sort_list(numbers)\n",
    "\n",
    "print(\"Sorted list in ascending order:\", sorted_numbers)"
   ]
  },
  {
   "cell_type": "markdown",
   "id": "17192b6c-ed9c-44c2-9a57-3d2e5aeec71c",
   "metadata": {},
   "source": [
    "# 38. List Filtering: Given a list of integers,  create a new list that contains only the even numbers from the original list."
   ]
  },
  {
   "cell_type": "code",
   "execution_count": 8,
   "id": "e61d081e-df78-47e2-8fbc-2c3a5d774529",
   "metadata": {},
   "outputs": [
    {
     "name": "stdout",
     "output_type": "stream",
     "text": [
      "Even numbers in the list: [4, 2, 6]\n"
     ]
    }
   ],
   "source": [
    "\n",
    "def filter_even_numbers(lst):\n",
    "    even_numbers = [num for num in lst if num % 2 == 0]\n",
    "    return even_numbers\n",
    "\n",
    "numbers = [3, 1, 4, 1, 5, 9, 2, 6, 5, 3, 5]\n",
    "\n",
    "even_numbers = filter_even_numbers(numbers)\n",
    "\n",
    "print(\"Even numbers in the list:\", even_numbers)"
   ]
  },
  {
   "cell_type": "markdown",
   "id": "1ce02295-3086-488f-b59d-d49cea0fd8f4",
   "metadata": {},
   "source": [
    "# 39. List Reversal:  reverse a given list without using any built-in functions."
   ]
  },
  {
   "cell_type": "code",
   "execution_count": 9,
   "id": "ac968b5b-832d-429f-9395-2322627e1259",
   "metadata": {},
   "outputs": [
    {
     "name": "stdout",
     "output_type": "stream",
     "text": [
      "Reversed list: [5, 3, 5, 6, 2, 9, 5, 1, 4, 1, 3]\n"
     ]
    }
   ],
   "source": [
    "\n",
    "def reverse_list(lst):\n",
    "    \n",
    "    reversed_lst = []\n",
    "   \n",
    "    for i in range(len(lst) - 1, -1, -1):\n",
    "        reversed_lst.append(lst[i])\n",
    "    return reversed_lst\n",
    "\n",
    "\n",
    "numbers = [3, 1, 4, 1, 5, 9, 2, 6, 5, 3, 5]\n",
    "\n",
    "reversed_numbers = reverse_list(numbers)\n",
    "\n",
    "\n",
    "print(\"Reversed list:\", reversed_numbers)"
   ]
  },
  {
   "cell_type": "markdown",
   "id": "75f8b8ee-35ae-478d-ac83-0fafaceb94f7",
   "metadata": {},
   "source": [
    "# 40.  List Manipulation: Given two lists of integers,   create a new list that contains elements common to both lists."
   ]
  },
  {
   "cell_type": "code",
   "execution_count": 10,
   "id": "d4d7df50-0bf9-464a-8d9c-19be12e0e56d",
   "metadata": {},
   "outputs": [
    {
     "name": "stdout",
     "output_type": "stream",
     "text": [
      "Common elements: [4, 5]\n"
     ]
    }
   ],
   "source": [
    "\n",
    "def find_common_elements(list1, list2):\n",
    "    common_elements = [element for element in list1 if element in list2]\n",
    "    return common_elements\n",
    "\n",
    "\n",
    "list1 = [1, 2, 3, 4, 5]\n",
    "list2 = [4, 5, 6, 7, 8]\n",
    "\n",
    "\n",
    "common_elements = find_common_elements(list1, list2)\n",
    "\n",
    "print(\"Common elements:\", common_elements)"
   ]
  },
  {
   "cell_type": "markdown",
   "id": "ffdb11ed-7234-470a-87cf-1b19a3b6c6c2",
   "metadata": {},
   "source": [
    "# 41. List Element Count:  count the occurrences of a specific element in a given list."
   ]
  },
  {
   "cell_type": "code",
   "execution_count": 11,
   "id": "e1efd35e-9b3a-4e48-a6d7-2ff5169dfd09",
   "metadata": {},
   "outputs": [
    {
     "name": "stdout",
     "output_type": "stream",
     "text": [
      "The element 5 occurs 3 times in the list.\n"
     ]
    }
   ],
   "source": [
    "\n",
    "def count_occurrences(lst, element):\n",
    "    count = 0\n",
    "    for item in lst:\n",
    "        if item == element:\n",
    "            count += 1\n",
    "    return count\n",
    "\n",
    "\n",
    "numbers = [3, 1, 4, 1, 5, 9, 2, 6, 5, 3, 5]\n",
    "element_to_count = 5\n",
    "\n",
    "\n",
    "occurrences = count_occurrences(numbers, element_to_count)\n",
    "\n",
    "\n",
    "print(f\"The element {element_to_count} occurs {occurrences} times in the list.\")"
   ]
  },
  {
   "cell_type": "markdown",
   "id": "d80aab65-fc47-40cd-9bc5-f9440ffed58c",
   "metadata": {},
   "source": [
    "# 42. List Duplicates Removal: remove duplicates from a given list while preserving the order of the elements."
   ]
  },
  {
   "cell_type": "code",
   "execution_count": 12,
   "id": "a8a80ee3-0557-4e22-a34b-629b20defb6c",
   "metadata": {},
   "outputs": [
    {
     "name": "stdout",
     "output_type": "stream",
     "text": [
      "List after removing duplicates: [3, 1, 4, 5, 9, 2, 6]\n"
     ]
    }
   ],
   "source": [
    "\n",
    "def remove_duplicates(lst):\n",
    "    seen = set()\n",
    "    unique_list = []\n",
    "    for item in lst:\n",
    "        if item not in seen:\n",
    "            unique_list.append(item)\n",
    "            seen.add(item)\n",
    "    return unique_list\n",
    "\n",
    "\n",
    "numbers = [3, 1, 4, 1, 5, 9, 2, 6, 5, 3, 5]\n",
    "\n",
    "unique_numbers = remove_duplicates(numbers)\n",
    "\n",
    "print(\"List after removing duplicates:\", unique_numbers)"
   ]
  },
  {
   "cell_type": "markdown",
   "id": "8b24e24d-9e94-4ea1-8e3f-fda25bec92f4",
   "metadata": {},
   "source": [
    "# 43. List Comprehension: Given a list of integers,  create a new list that contains the squares of the elements using list comprehension."
   ]
  },
  {
   "cell_type": "code",
   "execution_count": 58,
   "id": "22c5b571-f19d-4bdb-9686-f5299936bf50",
   "metadata": {},
   "outputs": [
    {
     "name": "stdout",
     "output_type": "stream",
     "text": [
      "List of squares: [1, 4, 9, 16, 25]\n"
     ]
    }
   ],
   "source": [
    "\n",
    "def square_elements(lst):\n",
    "    return [x**2 for x in lst]\n",
    "\n",
    "numbers = [1, 2, 3, 4, 5]\n",
    "\n",
    "squared_numbers = square_elements(numbers)\n",
    "\n",
    "print(\"List of squares:\", squared_numbers)"
   ]
  },
  {
   "cell_type": "markdown",
   "id": "efe386ab-bd21-4632-b025-36eee783b78f",
   "metadata": {},
   "source": [
    "# 44. Matrix Addition: add two matrices represented as nested lists."
   ]
  },
  {
   "cell_type": "code",
   "execution_count": 14,
   "id": "3d82df83-0070-40e4-af2c-8ca20533f75e",
   "metadata": {},
   "outputs": [
    {
     "name": "stdout",
     "output_type": "stream",
     "text": [
      "[10, 10, 10]\n",
      "[10, 10, 10]\n",
      "[10, 10, 10]\n"
     ]
    }
   ],
   "source": [
    "\n",
    "def add_matrices(A, B):\n",
    "    \n",
    "    rows = len(A)\n",
    "    cols = len(A[0])\n",
    "\n",
    "    result = [[0 for _ in range(cols)] for _ in range(rows)]\n",
    "\n",
    "    \n",
    "    for i in range(rows):\n",
    "        for j in range(cols):\n",
    "            result[i][j] = A[i][j] + B[i][j]\n",
    "\n",
    "    return result\n",
    "\n",
    "A = [\n",
    "    [1, 2, 3],\n",
    "    [4, 5, 6],\n",
    "    [7, 8, 9]\n",
    "]\n",
    "\n",
    "B = [\n",
    "    [9, 8, 7],\n",
    "    [6, 5, 4],\n",
    "    [3, 2, 1]\n",
    "]\n",
    "\n",
    "\n",
    "result = add_matrices(A, B)\n",
    "\n",
    "for row in result:\n",
    "    print(row)"
   ]
  },
  {
   "cell_type": "markdown",
   "id": "f34f3711-bd64-4139-86bb-5984e9971284",
   "metadata": {},
   "source": [
    "# 45. Flatten Nested List:  flatten a given nested list and convert it into a single-dimensional list."
   ]
  },
  {
   "cell_type": "code",
   "execution_count": 15,
   "id": "b2c6b52f-78b3-4255-bf5a-9232a9f8c943",
   "metadata": {},
   "outputs": [
    {
     "name": "stdout",
     "output_type": "stream",
     "text": [
      "[1, 2, 3, 4, 5, 6, 7]\n"
     ]
    }
   ],
   "source": [
    "nested_list = [[1], [2, 3], [4, 5, 6, 7]]\n",
    "flat_list = [num for sublist in nested_list for num in sublist]\n",
    "print(flat_list)"
   ]
  },
  {
   "cell_type": "markdown",
   "id": "a8a54869-ab20-4145-aa6b-845e3af32c2e",
   "metadata": {},
   "source": [
    "# 46. List Element Frequency: Given a nested list containing lists of integers,  count the frequency of each element in the entire nested list."
   ]
  },
  {
   "cell_type": "code",
   "execution_count": 16,
   "id": "7287a25d-8776-401a-847c-1cfebb6bdfa7",
   "metadata": {},
   "outputs": [
    {
     "name": "stdout",
     "output_type": "stream",
     "text": [
      "Counter({6: 4, 4: 3, 2: 2, 1: 1, 3: 1, 5: 1})\n"
     ]
    }
   ],
   "source": [
    "from itertools import chain\n",
    "from collections import Counter\n",
    "\n",
    "def count_frequency(nested_list):\n",
    "    \n",
    "    flat_list = list(chain(*nested_list))\n",
    "    frequency = Counter(flat_list)\n",
    "    return frequency\n",
    "\n",
    "nested_list = [[1, 2, 2], [3, 4, 4, 4], [5, 6, 6, 6, 6]]\n",
    "print(count_frequency(nested_list))"
   ]
  },
  {
   "cell_type": "markdown",
   "id": "6530d060-be8f-4073-966c-0b70ca77336e",
   "metadata": {},
   "source": [
    "# 47. Transpose Matrix:  transpose a given matrix represented as a nested list."
   ]
  },
  {
   "cell_type": "code",
   "execution_count": 17,
   "id": "916f887e-b08a-4431-acf2-f37657762436",
   "metadata": {},
   "outputs": [
    {
     "name": "stdout",
     "output_type": "stream",
     "text": [
      "[[1, 4, 7], [2, 5, 8], [3, 6, 9]]\n"
     ]
    }
   ],
   "source": [
    "def transpose(matrix):\n",
    "    return [[row[i] for row in matrix] for i in range(len(matrix[0]))]\n",
    "\n",
    "matrix = [[1, 2, 3], [4, 5, 6], [7, 8, 9]]\n",
    "print(transpose(matrix))"
   ]
  },
  {
   "cell_type": "markdown",
   "id": "3bb05e4d-f5d3-44c3-b7c4-01ea5fb1a3b5",
   "metadata": {},
   "source": [
    "# 48. List of Lists Concatenation: Given a list of nested lists,  concatenate all the sublists into a single flat list."
   ]
  },
  {
   "cell_type": "code",
   "execution_count": 18,
   "id": "c867a358-e79c-4559-bd0b-15e766fc8ad7",
   "metadata": {},
   "outputs": [
    {
     "name": "stdout",
     "output_type": "stream",
     "text": [
      "[1, 2, 3, 4, 5, 6, 7, 8, 9]\n"
     ]
    }
   ],
   "source": [
    "nested_list = [[1, 2], [3, 4, 5], [6, 7, 8, 9]]\n",
    "flat_list = [item for sublist in nested_list for item in sublist]\n",
    "print(flat_list)"
   ]
  },
  {
   "cell_type": "markdown",
   "id": "4e64a886-6412-4266-8ac3-1c72ad0979b2",
   "metadata": {},
   "source": [
    "# 49. Tuple Concatenation:  concatenate two tuples and create a new tuple."
   ]
  },
  {
   "cell_type": "code",
   "execution_count": 20,
   "id": "d03a7857-5635-40a4-8852-71d5c8437a02",
   "metadata": {},
   "outputs": [
    {
     "name": "stdout",
     "output_type": "stream",
     "text": [
      "(1, 2, 3, 4, 5, 6)\n"
     ]
    }
   ],
   "source": [
    "tuple1 = (1, 2, 3)\n",
    "tuple2 = (4, 5, 6)\n",
    "concatenated_tuple = tuple1 + tuple2\n",
    "print(concatenated_tuple)"
   ]
  },
  {
   "cell_type": "markdown",
   "id": "e39e89b6-7a3a-4166-9556-03a0672e2b45",
   "metadata": {},
   "source": [
    "# 50. Tuple Unpacking: Given a tuple with three elements (x, y, z),  unpack the tuple and assign the values to three variables."
   ]
  },
  {
   "cell_type": "code",
   "execution_count": 21,
   "id": "d60de0bf-2e66-4128-9fdd-134a57c37be0",
   "metadata": {},
   "outputs": [
    {
     "name": "stdout",
     "output_type": "stream",
     "text": [
      "x: 1\n",
      "y: 2\n",
      "z: 3\n"
     ]
    }
   ],
   "source": [
    "\n",
    "my_tuple = (1, 2, 3)\n",
    "\n",
    "x, y, z = my_tuple\n",
    "\n",
    "print(\"x:\", x)\n",
    "print(\"y:\", y)\n",
    "print(\"z:\", z)"
   ]
  },
  {
   "cell_type": "markdown",
   "id": "a5458afd-deff-43b0-8be7-817eae931670",
   "metadata": {},
   "source": [
    "# 51. Tuple Sorting:  sort a tuple of integers in ascending order."
   ]
  },
  {
   "cell_type": "code",
   "execution_count": 1,
   "id": "3ed291c9-d50d-4372-8865-2da011abbd01",
   "metadata": {},
   "outputs": [
    {
     "name": "stdout",
     "output_type": "stream",
     "text": [
      "(1, 2, 3, 4)\n"
     ]
    }
   ],
   "source": [
    "\n",
    "numbers = (4, 1, 3, 2)\n",
    "\n",
    "sorted_numbers = tuple(sorted(numbers))\n",
    "\n",
    "print(sorted_numbers)"
   ]
  },
  {
   "cell_type": "markdown",
   "id": "549d6c12-9321-4c30-b3b6-a040a2737723",
   "metadata": {},
   "source": [
    "# 52. Tuple Frequency Count: Given a tuple containing various elements,  count the frequency of a specific element in the tuple."
   ]
  },
  {
   "cell_type": "code",
   "execution_count": 2,
   "id": "31f938f3-f056-45d7-8100-ff65c76f4812",
   "metadata": {},
   "outputs": [
    {
     "name": "stdout",
     "output_type": "stream",
     "text": [
      "The frequency of 2 in the tuple is: 3\n"
     ]
    }
   ],
   "source": [
    "\n",
    "elements = (1, 2, 3, 2, 4, 2, 5)\n",
    "\n",
    "target_element = 2\n",
    "\n",
    "frequency = elements.count(target_element)\n",
    "\n",
    "print(f\"The frequency of {target_element} in the tuple is: {frequency}\")"
   ]
  },
  {
   "cell_type": "markdown",
   "id": "95988e45-757c-4758-8694-b079ccaf199b",
   "metadata": {},
   "source": [
    "# 53. Tuple to List: convert a tuple into a list."
   ]
  },
  {
   "cell_type": "code",
   "execution_count": 3,
   "id": "1eaabc5b-4d2e-41ca-9d55-479336dd808c",
   "metadata": {},
   "outputs": [
    {
     "name": "stdout",
     "output_type": "stream",
     "text": [
      "[1, 2, 3, 4, 5]\n"
     ]
    }
   ],
   "source": [
    "\n",
    "my_tuple = (1, 2, 3, 4, 5)\n",
    "\n",
    "my_list = list(my_tuple)\n",
    "\n",
    "print(my_list)"
   ]
  },
  {
   "cell_type": "markdown",
   "id": "f9082824-635d-4dd1-b83d-7cc54295a403",
   "metadata": {},
   "source": [
    "# 54. Tuple Reversal:  reverse a tuple without using any built-in functions."
   ]
  },
  {
   "cell_type": "code",
   "execution_count": 4,
   "id": "3230a206-8801-4f35-9637-449fa18fb902",
   "metadata": {},
   "outputs": [
    {
     "name": "stdout",
     "output_type": "stream",
     "text": [
      "(5, 4, 3, 2, 1)\n"
     ]
    }
   ],
   "source": [
    "\n",
    "original_tuple = (1, 2, 3, 4, 5)\n",
    "\n",
    "reversed_tuple = ()\n",
    "for i in range(len(original_tuple) - 1, -1, -1):\n",
    "    reversed_tuple += (original_tuple[i],)\n",
    "\n",
    "print(reversed_tuple)"
   ]
  },
  {
   "cell_type": "markdown",
   "id": "7b2ad9bf-0e82-4474-9bba-930107573f19",
   "metadata": {},
   "source": [
    "# 55.Tuple Slicing: Given a tuple,  extract a slice of elements from it."
   ]
  },
  {
   "cell_type": "code",
   "execution_count": 5,
   "id": "9d3ac943-1803-446c-a4d9-61bdb5b86542",
   "metadata": {},
   "outputs": [
    {
     "name": "stdout",
     "output_type": "stream",
     "text": [
      "(20, 30, 40)\n"
     ]
    }
   ],
   "source": [
    "\n",
    "my_tuple = (10, 20, 30, 40, 50, 60)\n",
    "\n",
    "sliced_tuple = my_tuple[1:4]\n",
    "\n",
    "print(sliced_tuple)"
   ]
  },
  {
   "cell_type": "markdown",
   "id": "0fe9f5bb-7ce4-4b0b-aebf-84c586a53cc8",
   "metadata": {},
   "source": [
    "# 56. Tuple Operations: Given two tuples of integers,  perform element-wise addition, subtraction, and multiplication and create new tuples for each operation."
   ]
  },
  {
   "cell_type": "code",
   "execution_count": 6,
   "id": "86e50f87-3c37-4308-8fd4-4a575c90a906",
   "metadata": {},
   "outputs": [
    {
     "name": "stdout",
     "output_type": "stream",
     "text": [
      "Addition Result: (6, 8, 10, 12)\n",
      "Subtraction Result: (-4, -4, -4, -4)\n",
      "Multiplication Result: (5, 12, 21, 32)\n"
     ]
    }
   ],
   "source": [
    "\n",
    "tuple1 = (1, 2, 3, 4)\n",
    "tuple2 = (5, 6, 7, 8)\n",
    "\n",
    "addition_result = tuple(a + b for a, b in zip(tuple1, tuple2))\n",
    "\n",
    "subtraction_result = tuple(a - b for a, b in zip(tuple1, tuple2))\n",
    "\n",
    "multiplication_result = tuple(a * b for a, b in zip(tuple1, tuple2))\n",
    "\n",
    "print(\"Addition Result:\", addition_result)\n",
    "print(\"Subtraction Result:\", subtraction_result)\n",
    "print(\"Multiplication Result:\", multiplication_result)"
   ]
  },
  {
   "cell_type": "markdown",
   "id": "41fd2313-3f2b-445f-b9c2-4247bbfaa6f6",
   "metadata": {},
   "source": [
    "# 57. Tuple Membership Test:takes an element as input and checks if it exists in a given tuple."
   ]
  },
  {
   "cell_type": "code",
   "execution_count": 7,
   "id": "c04f812c-cb0b-4a75-91a1-28f34dde97c4",
   "metadata": {},
   "outputs": [
    {
     "name": "stdin",
     "output_type": "stream",
     "text": [
      "Enter an element to check:  29\n"
     ]
    },
    {
     "name": "stdout",
     "output_type": "stream",
     "text": [
      "29 does not exist in the tuple.\n"
     ]
    }
   ],
   "source": [
    "\n",
    "my_tuple = (10, 20, 30, 40, 50)\n",
    "\n",
    "element = int(input(\"Enter an element to check: \"))\n",
    "\n",
    "if element in my_tuple:\n",
    "    print(f\"{element} exists in the tuple.\")\n",
    "else:\n",
    "    print(f\"{element} does not exist in the tuple.\")"
   ]
  },
  {
   "cell_type": "markdown",
   "id": "89f508e5-8d7f-4554-88ef-66fcf0a26566",
   "metadata": {},
   "source": [
    "# 58. Tuple Packing:  pack three variables into a single tuple and print the tuple."
   ]
  },
  {
   "cell_type": "code",
   "execution_count": 8,
   "id": "83a2ace9-69ad-4ca5-96d9-0c4c5460f7e1",
   "metadata": {},
   "outputs": [
    {
     "name": "stdout",
     "output_type": "stream",
     "text": [
      "Packed Tuple: (10, 20, 30)\n"
     ]
    }
   ],
   "source": [
    "\n",
    "a = 10\n",
    "b = 20\n",
    "c = 30\n",
    "\n",
    "packed_tuple = (a, b, c)\n",
    "\n",
    "print(\"Packed Tuple:\", packed_tuple)"
   ]
  },
  {
   "cell_type": "markdown",
   "id": "b7bddd82-8b87-4e38-b6a5-d145bc379dfe",
   "metadata": {},
   "source": [
    "# 59. Nested List Element Access: Given a nested list,  access and print specific elements from it."
   ]
  },
  {
   "cell_type": "code",
   "execution_count": 9,
   "id": "650c2b41-5604-464f-bbd1-012369b26ef9",
   "metadata": {},
   "outputs": [
    {
     "name": "stdout",
     "output_type": "stream",
     "text": [
      "First element: 1\n",
      "Second element: 5\n",
      "Nested element: 11\n"
     ]
    }
   ],
   "source": [
    "\n",
    "nested_list = [\n",
    "    [1, 2, 3],\n",
    "    [4, 5, 6],\n",
    "    [7, 8, 9, [10, 11, 12]]\n",
    "]\n",
    "\n",
    "\n",
    "first_element = nested_list[0][0]  \n",
    "second_element = nested_list[1][1]  \n",
    "nested_element = nested_list[2][3][1] \n",
    "print(\"First element:\", first_element)\n",
    "print(\"Second element:\", second_element)\n",
    "print(\"Nested element:\", nested_element)"
   ]
  },
  {
   "cell_type": "markdown",
   "id": "0f98f54a-395e-4d0d-8466-5c6ad302fb75",
   "metadata": {},
   "source": [
    "# 60. Nested List Flattening: Write a Python program to flatten a nested list and convert it into a single-dimensional list."
   ]
  },
  {
   "cell_type": "code",
   "execution_count": 2,
   "id": "4c51f8f8-c943-4e6f-82b5-20505c1e2342",
   "metadata": {},
   "outputs": [
    {
     "name": "stdout",
     "output_type": "stream",
     "text": [
      "[1, 2, 3, 4, 5, 6, 7]\n"
     ]
    }
   ],
   "source": [
    "def flatten(nested_list):\r\n",
    "    flat_list = []\r\n",
    "    for item in nested_list:\r\n",
    "        if isinstance(item, list):\r\n",
    "            flat_list.extend(flatten(item))\r\n",
    "        else:\r\n",
    "            flat_list.append(item)\r\n",
    "    return flat_list\r\n",
    "\r\n",
    "nested_list = [1, [2, 3], [4, [5, 6]], 7]\r\n",
    "print(flatten(nested_list))"
   ]
  },
  {
   "cell_type": "markdown",
   "id": "b9761ab9-e640-4d6d-bd64-cb01431117c1",
   "metadata": {},
   "source": [
    "# 61.  Nested List Sorting: Given a nested list containing lists of integers, to sort the sublists based on their lengths."
   ]
  },
  {
   "cell_type": "code",
   "execution_count": 10,
   "id": "f6503753-7684-41ed-9aa3-e9233823ff52",
   "metadata": {},
   "outputs": [
    {
     "name": "stdout",
     "output_type": "stream",
     "text": [
      "Sorted Nested List: [[6], [4, 5], [1, 2, 3], [7, 8, 9, 10]]\n"
     ]
    }
   ],
   "source": [
    "\n",
    "nested_list = [\n",
    "    [1, 2, 3],\n",
    "    [4, 5],\n",
    "    [7, 8, 9, 10],\n",
    "    [6]\n",
    "]\n",
    "\n",
    "\n",
    "sorted_nested_list = sorted(nested_list, key=len)\n",
    "\n",
    "print(\"Sorted Nested List:\", sorted_nested_list)"
   ]
  },
  {
   "cell_type": "markdown",
   "id": "d3519056-52d8-405f-930f-68980b3a2fdd",
   "metadata": {},
   "source": [
    "# 62. List of Tuples Conversion: Given a nested list containing tuples of (x, y) coordinates, write a Python program to convert it into a list of x-coordinates and a list of y-coordinates."
   ]
  },
  {
   "cell_type": "code",
   "execution_count": 3,
   "id": "2b057a62-c698-4912-a522-9fe14cf21e0f",
   "metadata": {},
   "outputs": [
    {
     "name": "stdout",
     "output_type": "stream",
     "text": [
      "X-coordinates: [1, 3, 5, 7]\n",
      "Y-coordinates: [2, 4, 6, 8]\n"
     ]
    }
   ],
   "source": [
    "nested_list = [(1, 2), (3, 4), (5, 6), (7, 8)]\n",
    "x_coords = [x for x, y in nested_list]\n",
    "y_coords = [y for x, y in nested_list]\n",
    "print(\"X-coordinates:\", x_coords)\n",
    "print(\"Y-coordinates:\", y_coords)"
   ]
  },
  {
   "cell_type": "markdown",
   "id": "29dcb433-5208-4195-924a-8d8474bfbe1b",
   "metadata": {},
   "source": [
    "# 63. Matrix Transpose:  to transpose a given matrix represented as a nested list."
   ]
  },
  {
   "cell_type": "code",
   "execution_count": 57,
   "id": "e57f808d-8fea-4371-8516-a25023774beb",
   "metadata": {},
   "outputs": [
    {
     "name": "stdout",
     "output_type": "stream",
     "text": [
      "Transposed Matrix using Nested Loops:\n",
      "[1, 4, 7]\n",
      "[2, 5, 8]\n",
      "[3, 6, 9]\n"
     ]
    }
   ],
   "source": [
    "\n",
    "matrix = [\n",
    "    [1, 2, 3],\n",
    "    [4, 5, 6],\n",
    "    [7, 8, 9]\n",
    "]\n",
    "\n",
    "\n",
    "transposed_matrix = [[0 for _ in range(len(matrix))] for _ in range(len(matrix[0]))]\n",
    "\n",
    "for i in range(len(matrix)):\n",
    "    for j in range(len(matrix[0])):\n",
    "        transposed_matrix[j][i] = matrix[i][j]\n",
    "\n",
    "print(\"Transposed Matrix using Nested Loops:\")\n",
    "for row in transposed_matrix:\n",
    "    print(row)"
   ]
  },
  {
   "cell_type": "markdown",
   "id": "84d5c323-d8f8-4657-9d1f-3b7a28081bd3",
   "metadata": {},
   "source": [
    "# 64.  Nested List Concatenation: Given a list of nested lists, to concatenate all the sublists into a single flat list."
   ]
  },
  {
   "cell_type": "code",
   "execution_count": 56,
   "id": "a6ba40f0-df60-4ee1-bdd7-1fa1a754b9c3",
   "metadata": {},
   "outputs": [
    {
     "name": "stdout",
     "output_type": "stream",
     "text": [
      "Flat List: [1, 2, 3, 4, 5, 6, 7, 8, 9]\n"
     ]
    }
   ],
   "source": [
    "\n",
    "nested_list = [\n",
    "    [1, 2, 3],\n",
    "    [4, 5],\n",
    "    [6, 7, 8, 9]\n",
    "]\n",
    "\n",
    "\n",
    "flat_list = [item for sublist in nested_list for item in sublist]\n",
    "\n",
    "print(\"Flat List:\", flat_list)"
   ]
  },
  {
   "cell_type": "markdown",
   "id": "aed7b58b-449f-4536-9f9b-5d83873a138c",
   "metadata": {},
   "source": [
    "# 65. Count Even Numbers:  to count the number of even numbers in a nested list."
   ]
  },
  {
   "cell_type": "code",
   "execution_count": 11,
   "id": "ec1494a3-e72e-48bf-b8d4-fcb373c2b3c6",
   "metadata": {},
   "outputs": [
    {
     "name": "stdout",
     "output_type": "stream",
     "text": [
      "Number of even numbers in the nested list: 5\n"
     ]
    }
   ],
   "source": [
    "\n",
    "nested_list = [\n",
    "    [1, 2, 3],\n",
    "    [4, 5, 6],\n",
    "    [7, 8, 9, 10]\n",
    "]\n",
    "\n",
    "\n",
    "even_count = 0\n",
    "\n",
    "for sublist in nested_list:\n",
    "    for item in sublist:\n",
    "        if item % 2 == 0:\n",
    "            even_count += 1\n",
    "\n",
    "print(\"Number of even numbers in the nested list:\", even_count)"
   ]
  },
  {
   "cell_type": "markdown",
   "id": "7b5341c6-d7f5-45cd-a4a7-0a7b336955e6",
   "metadata": {},
   "source": [
    "# 66.  Maximum Element in Nested List: find the maximum element in a nested list of integers."
   ]
  },
  {
   "cell_type": "code",
   "execution_count": 4,
   "id": "7555385c-a57b-4911-b8d3-7a218c2a0927",
   "metadata": {},
   "outputs": [
    {
     "name": "stdout",
     "output_type": "stream",
     "text": [
      "Maximum element in the nested list: 10\n"
     ]
    }
   ],
   "source": [
    "\n",
    "nested_list = [\n",
    "    [1, 2, 3],\n",
    "    [4, 5, 6],\n",
    "    [7, 8, 9, 10]\n",
    "]\n",
    "\n",
    "\n",
    "flat_list = [item for sublist in nested_list for item in sublist]\n",
    "\n",
    "\n",
    "max_element = max(flat_list)\n",
    "\n",
    "print(\"Maximum element in the nested list:\", max_element)"
   ]
  },
  {
   "cell_type": "markdown",
   "id": "27665457-6628-40fd-b69d-43f21d715b3d",
   "metadata": {},
   "source": [
    "# 67. Diagonal Sum of Matrix: Given a square matrix represented as a nested list, calculate the sum of the elements in the main diagonal."
   ]
  },
  {
   "cell_type": "code",
   "execution_count": 12,
   "id": "35692210-2eb6-496c-80c9-d14d88eb4ebe",
   "metadata": {},
   "outputs": [
    {
     "name": "stdout",
     "output_type": "stream",
     "text": [
      "Sum of the main diagonal elements: 15\n"
     ]
    }
   ],
   "source": [
    "\n",
    "matrix = [\n",
    "    [1, 2, 3],\n",
    "    [4, 5, 6],\n",
    "    [7, 8, 9]\n",
    "]\n",
    "\n",
    "\n",
    "diagonal_sum = 0\n",
    "for i in range(len(matrix)):\n",
    "    diagonal_sum += matrix[i][i]\n",
    "\n",
    "print(\"Sum of the main diagonal elements:\", diagonal_sum)"
   ]
  },
  {
   "cell_type": "markdown",
   "id": "5b076045-4bf6-4576-9bb4-a3e4fb836122",
   "metadata": {},
   "source": [
    "# 68. Nested List Element Search:   search for a specific element in a nested list and return its position (row and column indices)."
   ]
  },
  {
   "cell_type": "code",
   "execution_count": 13,
   "id": "04dbdff2-efac-4c51-9d07-31e9e3fa0711",
   "metadata": {},
   "outputs": [
    {
     "name": "stdout",
     "output_type": "stream",
     "text": [
      "Element 5 found at position: (1, 1)\n"
     ]
    }
   ],
   "source": [
    "\n",
    "nested_list = [\n",
    "    [1, 2, 3],\n",
    "    [4, 5, 6],\n",
    "    [7, 8, 9]\n",
    "]\n",
    "\n",
    "\n",
    "target_element = 5\n",
    "\n",
    "\n",
    "def find_element_position(nested_list, target_element):\n",
    "    for row_index, row in enumerate(nested_list):\n",
    "        for col_index, element in enumerate(row):\n",
    "            if element == target_element:\n",
    "                return (row_index, col_index)\n",
    "    return None\n",
    "\n",
    "\n",
    "position = find_element_position(nested_list, target_element)\n",
    "\n",
    "if position:\n",
    "    print(f\"Element {target_element} found at position: {position}\")\n",
    "else:\n",
    "    print(f\"Element {target_element} not found in the nested list.\")"
   ]
  },
  {
   "cell_type": "markdown",
   "id": "42f75e87-3238-44e0-b68a-b1ce73b60aec",
   "metadata": {},
   "source": [
    "# 69. Duplicate Removal:  takes a list of elements as input and creates a new set containing only the unique elements from the list."
   ]
  },
  {
   "cell_type": "code",
   "execution_count": 1,
   "id": "ea09c48e-c265-4ffa-8ad8-169b102266d4",
   "metadata": {},
   "outputs": [
    {
     "name": "stdout",
     "output_type": "stream",
     "text": [
      "Unique elements: {1, 2, 3, 4, 5, 6, 7, 8, 9}\n"
     ]
    }
   ],
   "source": [
    "def remove_duplicates(input_list):\n",
    "   \n",
    "    unique_elements = set(input_list)\n",
    "    return unique_elements\n",
    "\n",
    "\n",
    "input_list = [1, 2, 3, 2, 4, 8, 9, 1, 7, 6, 4, 5]\n",
    "unique_set = remove_duplicates(input_list)\n",
    "print(\"Unique elements:\", unique_set)"
   ]
  },
  {
   "cell_type": "markdown",
   "id": "35a942db-43ff-4da9-b7c4-ce26f88af461",
   "metadata": {},
   "source": [
    "# 70. Set Intersection: Given two sets A and B,  find their intersection and print the common elements."
   ]
  },
  {
   "cell_type": "code",
   "execution_count": 2,
   "id": "e2758ae6-0e57-48b5-b74b-279984e593ca",
   "metadata": {},
   "outputs": [
    {
     "name": "stdout",
     "output_type": "stream",
     "text": [
      "Common elements: {4, 5}\n"
     ]
    }
   ],
   "source": [
    "def find_intersection(set_a, set_b):\n",
    "   \n",
    "    intersection = set_a.intersection(set_b)\n",
    "    return intersection\n",
    "\n",
    "\n",
    "set_a = {1, 2, 3, 4, 5}\n",
    "set_b = {4, 5, 6, 7, 8}\n",
    "common_elements = find_intersection(set_a, set_b)\n",
    "print(\"Common elements:\", common_elements)"
   ]
  },
  {
   "cell_type": "markdown",
   "id": "1d44e142-97a6-4c4d-83bd-56de15404741",
   "metadata": {},
   "source": [
    "# 71. Set Union: Given two sets A and B,find their union and print all the distinct elements from both sets."
   ]
  },
  {
   "cell_type": "code",
   "execution_count": 3,
   "id": "a0106e21-e18c-45cd-b3d5-8efaf496c30d",
   "metadata": {},
   "outputs": [
    {
     "name": "stdout",
     "output_type": "stream",
     "text": [
      "Distinct elements: {1, 2, 3, 4, 5, 6, 7, 8}\n"
     ]
    }
   ],
   "source": [
    "def find_union(set_a, set_b):\n",
    "   \n",
    "    union_set = set_a.union(set_b)\n",
    "    return union_set\n",
    "\n",
    "\n",
    "set_a = {1, 2, 3, 4, 5}\n",
    "set_b = {4, 5, 6, 7, 8}\n",
    "distinct_elements = find_union(set_a, set_b)\n",
    "print(\"Distinct elements:\", distinct_elements)"
   ]
  },
  {
   "cell_type": "markdown",
   "id": "6dc175e8-aacd-4a13-93ad-59fb9fdc67a1",
   "metadata": {},
   "source": [
    "# 72. Set Difference: Given two sets A and B,  find the difference between set A and set B (i.e., elements present in A but not in B) and print the result."
   ]
  },
  {
   "cell_type": "code",
   "execution_count": 4,
   "id": "59033c08-fae6-4833-b214-55011926da4a",
   "metadata": {},
   "outputs": [
    {
     "name": "stdout",
     "output_type": "stream",
     "text": [
      "Elements in set A but not in set B: {1, 2, 3}\n"
     ]
    }
   ],
   "source": [
    "def find_difference(set_a, set_b):\n",
    "    \n",
    "    difference = set_a.difference(set_b)\n",
    "    return difference\n",
    "\n",
    "\n",
    "set_a = {1, 2, 3, 4, 5}\n",
    "set_b = {4, 5, 6, 7, 8}\n",
    "difference = find_difference(set_a, set_b)\n",
    "print(\"Elements in set A but not in set B:\", difference)"
   ]
  },
  {
   "cell_type": "markdown",
   "id": "565abd56-2525-45c4-9c72-d5ca0d8524e3",
   "metadata": {},
   "source": [
    "# 73. Set Symmetric Difference: Given two sets A and B,  find the symmetric difference between the two sets (i.e., elements that are present in either set A or set B, but not in both) and print the result."
   ]
  },
  {
   "cell_type": "code",
   "execution_count": 7,
   "id": "f5f23e22-2bb9-4fe7-b786-a70175b7d07e",
   "metadata": {},
   "outputs": [
    {
     "name": "stdout",
     "output_type": "stream",
     "text": [
      "Symmetric difference: {1, 2, 3, 6, 7, 8}\n"
     ]
    }
   ],
   "source": [
    "def find_symmetric_difference(set_a, set_b):\n",
    "\n",
    "    symmetric_difference = set_a.symmetric_difference(set_b)\n",
    "    return symmetric_difference\n",
    "\n",
    "\n",
    "set_a = {1, 2, 3, 4, 5}\n",
    "set_b = {4, 5, 6, 7, 8}\n",
    "symmetric_diff = find_symmetric_difference(set_a, set_b)\n",
    "print(\"Symmetric difference:\", symmetric_diff)"
   ]
  },
  {
   "cell_type": "markdown",
   "id": "ab06b644-5143-439f-8e7c-d1e61057297c",
   "metadata": {},
   "source": [
    "# 74. Set Operations: Given three sets A, B, and C,  find and print the intersection of A and B, the union of B and C, and the difference between C and A."
   ]
  },
  {
   "cell_type": "code",
   "execution_count": 5,
   "id": "2b1827ab-19b0-43b5-8f86-ec6ecfa48313",
   "metadata": {},
   "outputs": [
    {
     "name": "stdout",
     "output_type": "stream",
     "text": [
      "Intersection of A and B: {4, 5}\n",
      "Union of B and C: {1, 3, 4, 5, 6, 7, 8, 9}\n",
      "Difference between C and A: {9, 7}\n"
     ]
    }
   ],
   "source": [
    "def set_operations(set_a, set_b, set_c):\n",
    "   \n",
    "    intersection_ab = set_a.intersection(set_b)\n",
    "    \n",
    "  \n",
    "    union_bc = set_b.union(set_c)\n",
    "    \n",
    "  \n",
    "    difference_ca = set_c.difference(set_a)\n",
    "    \n",
    "    return intersection_ab, union_bc, difference_ca\n",
    "\n",
    "set_a = {1, 2, 3, 4, 5}\n",
    "set_b = {4, 5, 6, 7, 8}\n",
    "set_c = {1, 3, 5, 7, 9}\n",
    "\n",
    "intersection_ab, union_bc, difference_ca = set_operations(set_a, set_b, set_c)\n",
    "\n",
    "print(\"Intersection of A and B:\", intersection_ab)\n",
    "print(\"Union of B and C:\", union_bc)\n",
    "print(\"Difference between C and A:\", difference_ca)"
   ]
  },
  {
   "cell_type": "markdown",
   "id": "620ce19a-22fc-467f-93ed-1f0f1a3bd7ad",
   "metadata": {},
   "source": [
    "# 75. Set Subset Check: Given two sets A and B,  check if set A is a subset of set B and print the result."
   ]
  },
  {
   "cell_type": "code",
   "execution_count": 6,
   "id": "e0e9fecd-37d6-4fc4-a559-4409215a4fe9",
   "metadata": {},
   "outputs": [
    {
     "name": "stdout",
     "output_type": "stream",
     "text": [
      "Is set A a subset of set B? True\n"
     ]
    }
   ],
   "source": [
    "def is_subset(set_a, set_b):\n",
    "    \n",
    "    return set_a.issubset(set_b)\n",
    "\n",
    "\n",
    "set_a = {1, 2, 3}\n",
    "set_b = {1, 2, 3, 4, 5}\n",
    "result = is_subset(set_a, set_b)\n",
    "print(\"Is set A a subset of set B?\", result)"
   ]
  },
  {
   "cell_type": "markdown",
   "id": "55c92b30-1f2d-434d-bc34-66ddfc56e49b",
   "metadata": {},
   "source": [
    "# 76. Set Superset Check: Given two sets A and B,  check if set A is a superset of set B and print the result."
   ]
  },
  {
   "cell_type": "code",
   "execution_count": 8,
   "id": "e1d544f1-b09f-4d7c-b1bc-23fd3b431293",
   "metadata": {},
   "outputs": [
    {
     "name": "stdout",
     "output_type": "stream",
     "text": [
      "Is set A a superset of set B? True\n"
     ]
    }
   ],
   "source": [
    "def is_superset(set_a, set_b):\n",
    "    \n",
    "    return set_a.issuperset(set_b)\n",
    "\n",
    "\n",
    "set_a = {1, 2, 3, 4, 5}\n",
    "set_b = {1, 2, 3}\n",
    "result = is_superset(set_a, set_b)\n",
    "print(\"Is set A a superset of set B?\", result)"
   ]
  },
  {
   "cell_type": "markdown",
   "id": "46b6f22f-fd5a-45c0-896b-c72be8ef9748",
   "metadata": {},
   "source": [
    "# 77. Set Length Check: takes a set as input and prints the number of elements in the set."
   ]
  },
  {
   "cell_type": "code",
   "execution_count": 9,
   "id": "77de8259-cb8d-49d6-baa0-5a544dc6f8aa",
   "metadata": {},
   "outputs": [
    {
     "name": "stdout",
     "output_type": "stream",
     "text": [
      "Number of elements in the set: 5\n"
     ]
    }
   ],
   "source": [
    "def print_set_length(input_set):\n",
    "    \n",
    "    length = len(input_set)\n",
    "    print(\"Number of elements in the set:\", length)\n",
    "\n",
    "\n",
    "example_set = {1, 2, 3, 4, 5}\n",
    "print_set_length(example_set)"
   ]
  },
  {
   "cell_type": "markdown",
   "id": "1e13ba90-89bf-471e-b305-3a71251ffaf9",
   "metadata": {},
   "source": [
    "#  Set Membership Test:  takes an element as input and checks if it exists in a given set. Print “Found” if the element is present and “Not Found” otherwise."
   ]
  },
  {
   "cell_type": "code",
   "execution_count": 10,
   "id": "1770702a-8fd4-4014-a17f-7ad34633800a",
   "metadata": {},
   "outputs": [
    {
     "name": "stdout",
     "output_type": "stream",
     "text": [
      "Found\n"
     ]
    }
   ],
   "source": [
    "def check_membership(element, input_set):\n",
    "   \n",
    "    if element in input_set:\n",
    "        print(\"Found\")\n",
    "    else:\n",
    "        print(\"Not Found\")\n",
    "\n",
    "\n",
    "input_set = {1, 2, 3, 4, 5}\n",
    "element_to_check = 3\n",
    "check_membership(element_to_check, input_set)"
   ]
  },
  {
   "cell_type": "markdown",
   "id": "5a7fa895-0e23-4d95-b304-f71302d1be52",
   "metadata": {},
   "source": [
    "# Dictionary Manipulation: Given a dictionary with student names as keys and their corresponding scores as values,  add a new student to the dictionary and update the score of an existing student."
   ]
  },
  {
   "cell_type": "code",
   "execution_count": 11,
   "id": "d7cfe33c-5488-478b-84c7-958f0bc6e920",
   "metadata": {},
   "outputs": [
    {
     "name": "stdout",
     "output_type": "stream",
     "text": [
      "Updated student scores: {'Alice': 88, 'Bob': 90, 'Charlie': 78, 'David': 92}\n"
     ]
    }
   ],
   "source": [
    "def update_student_scores(student_dict, new_student, new_score, existing_student, updated_score):\n",
    "\n",
    "    student_dict[new_student] = new_score\n",
    "    \n",
    "   \n",
    "    if existing_student in student_dict:\n",
    "        student_dict[existing_student] = updated_score\n",
    "    else:\n",
    "        print(f\"Student {existing_student} not found in the dictionary.\")\n",
    "    \n",
    "    return student_dict\n",
    "\n",
    "\n",
    "students = {\n",
    "    \"Alice\": 85,\n",
    "    \"Bob\": 90,\n",
    "    \"Charlie\": 78\n",
    "}\n",
    "\n",
    "\n",
    "updated_students = update_student_scores(students, \"David\", 92, \"Alice\", 88)\n",
    "\n",
    "print(\"Updated student scores:\", updated_students)"
   ]
  },
  {
   "cell_type": "markdown",
   "id": "40087902-17c5-4bc6-9cc8-5d9c89f44fe4",
   "metadata": {},
   "source": [
    "# 78. Dictionary Keys and Values:  takes a dictionary as input and prints all the keys and values in separate lines."
   ]
  },
  {
   "cell_type": "code",
   "execution_count": 12,
   "id": "865da284-7343-4579-a482-ed0c8779c0fd",
   "metadata": {},
   "outputs": [
    {
     "name": "stdout",
     "output_type": "stream",
     "text": [
      "Alice: 85\n",
      "Bob: 90\n",
      "Charlie: 78\n"
     ]
    }
   ],
   "source": [
    "def print_keys_and_values(input_dict):\n",
    "    \n",
    "    for key, value in input_dict.items():\n",
    "        print(f\"{key}: {value}\")\n",
    "\n",
    "\n",
    "example_dict = {\n",
    "    \"Alice\": 85,\n",
    "    \"Bob\": 90,\n",
    "    \"Charlie\": 78\n",
    "}\n",
    "\n",
    "print_keys_and_values(example_dict)"
   ]
  },
  {
   "cell_type": "markdown",
   "id": "76bc1d5d-ea47-4522-b1de-43993c3766d0",
   "metadata": {},
   "source": [
    "# 79. Dictionary Length: calculate and print the number of key-value pairs in a given dictionary."
   ]
  },
  {
   "cell_type": "code",
   "execution_count": 13,
   "id": "35da8e99-c238-4587-802f-b158c96d1215",
   "metadata": {},
   "outputs": [
    {
     "name": "stdout",
     "output_type": "stream",
     "text": [
      "Number of key-value pairs in the dictionary: 3\n"
     ]
    }
   ],
   "source": [
    "def print_dict_length(input_dict):\n",
    "  \n",
    "    length = len(input_dict)\n",
    "    print(\"Number of key-value pairs in the dictionary:\", length)\n",
    "\n",
    "\n",
    "example_dict = {\n",
    "    \"Alice\": 85,\n",
    "    \"Bob\": 90,\n",
    "    \"Charlie\": 78\n",
    "}\n",
    "\n",
    "print_dict_length(example_dict)"
   ]
  },
  {
   "cell_type": "markdown",
   "id": "d3aadcc1-e41e-43c5-84d5-40d3e3b14443",
   "metadata": {},
   "source": [
    "# 80. Dictionary Value Search: Given a dictionary of items and their prices, search for an item based on its price and print the item’s name."
   ]
  },
  {
   "cell_type": "code",
   "execution_count": 14,
   "id": "153ab388-c2ab-41b2-aca4-580d31989732",
   "metadata": {},
   "outputs": [
    {
     "name": "stdout",
     "output_type": "stream",
     "text": [
      "Item with price 2.0 is: cherry\n"
     ]
    }
   ],
   "source": [
    "def find_item_by_price(price, item_dict):\n",
    "    \n",
    "    for item, item_price in item_dict.items():\n",
    "        if item_price == price:\n",
    "            return item\n",
    "    return \"Item not found\"\n",
    "\n",
    "\n",
    "items = {\n",
    "    \"apple\": 1.5,\n",
    "    \"banana\": 0.75,\n",
    "    \"cherry\": 2.0,\n",
    "    \"date\": 3.0\n",
    "}\n",
    "\n",
    "price_to_search = 2.0\n",
    "item_name = find_item_by_price(price_to_search, items)\n",
    "print(\"Item with price\", price_to_search, \"is:\", item_name)"
   ]
  },
  {
   "cell_type": "markdown",
   "id": "00737c16-8fe4-4982-a824-ea5260c35346",
   "metadata": {},
   "source": [
    "# 81. Dictionary Merging: Given two dictionaries,  merge them into a single dictionary and print the result."
   ]
  },
  {
   "cell_type": "code",
   "execution_count": 15,
   "id": "9afe327b-d9ab-4b71-8611-d8d2b401302d",
   "metadata": {},
   "outputs": [
    {
     "name": "stdout",
     "output_type": "stream",
     "text": [
      "{'a': 1, 'b': 2, 'c': 3, 'd': 4}\n"
     ]
    }
   ],
   "source": [
    "def merge_dicts(dict1, dict2):\n",
    "    for key, value in dict2.items():\n",
    "        dict1[key] = value\n",
    "    return dict1\n",
    "\n",
    "dict1 = {'a': 1, 'b': 2}\n",
    "dict2 = {'c': 3, 'd': 4}\n",
    "merged_dict = merge_dicts(dict1, dict2)\n",
    "print(merged_dict)"
   ]
  },
  {
   "cell_type": "markdown",
   "id": "2302de31-0f3a-4cac-b72d-3a8f96f96870",
   "metadata": {},
   "source": [
    "# 82. Dictionary Key Removal: Given a dictionary of items and their quantities, remove a specific item from the dictionary based on user input."
   ]
  },
  {
   "cell_type": "code",
   "execution_count": 16,
   "id": "33c08475-665c-49f9-b49b-20dc7e9899a1",
   "metadata": {},
   "outputs": [
    {
     "name": "stdin",
     "output_type": "stream",
     "text": [
      "Enter the item to remove:  apples\n"
     ]
    },
    {
     "name": "stdout",
     "output_type": "stream",
     "text": [
      "Item 'apples' removed.\n",
      "Updated inventory: {'bananas': 5, 'oranges': 8}\n"
     ]
    }
   ],
   "source": [
    "def remove_item(dictionary, item):\n",
    "    if item in dictionary:\n",
    "        del dictionary[item]\n",
    "        print(f\"Item '{item}' removed.\")\n",
    "    else:\n",
    "        print(f\"Item '{item}' not found in the dictionary.\")\n",
    "    return dictionary\n",
    "\n",
    "\n",
    "inventory = {'apples': 10, 'bananas': 5, 'oranges': 8}\n",
    "\n",
    "\n",
    "item_to_remove = input(\"Enter the item to remove: \")\n",
    "\n",
    "\n",
    "updated_inventory = remove_item(inventory, item_to_remove)\n",
    "print(\"Updated inventory:\", updated_inventory)"
   ]
  },
  {
   "cell_type": "markdown",
   "id": "35d5866a-17c6-4384-a13e-273cd2427270",
   "metadata": {},
   "source": [
    "# 83. Dictionary Sorting: Given a dictionary with names as keys and corresponding ages as values,   sort the dictionary based on age in ascending order."
   ]
  },
  {
   "cell_type": "code",
   "execution_count": 17,
   "id": "dd4b4dab-a48d-4225-b2d7-be222dacfca4",
   "metadata": {},
   "outputs": [
    {
     "name": "stdout",
     "output_type": "stream",
     "text": [
      "Sorted dictionary: {'David': 20, 'Bob': 25, 'Alice': 30, 'Charlie': 35}\n"
     ]
    }
   ],
   "source": [
    "def sort_by_age(dictionary):\n",
    "   \n",
    "    sorted_dict = dict(sorted(dictionary.items(), key=lambda item: item[1]))\n",
    "    return sorted_dict\n",
    "\n",
    "\n",
    "people = {'Alice': 30, 'Bob': 25, 'Charlie': 35, 'David': 20}\n",
    "\n",
    "\n",
    "sorted_people = sort_by_age(people)\n",
    "print(\"Sorted dictionary:\", sorted_people)"
   ]
  },
  {
   "cell_type": "markdown",
   "id": "bfff4227-2249-4293-aeee-0d506c5cdb54",
   "metadata": {},
   "source": [
    "# 84. Dictionary Frequency Count:  takes a string as input and creates a dictionary containing each character as a key and its frequency as the value."
   ]
  },
  {
   "cell_type": "code",
   "execution_count": 18,
   "id": "9f8ceb63-ef2b-4034-86e7-37082f614a9e",
   "metadata": {},
   "outputs": [
    {
     "name": "stdin",
     "output_type": "stream",
     "text": [
      "Enter a string:  I am tired \n"
     ]
    },
    {
     "name": "stdout",
     "output_type": "stream",
     "text": [
      "Character frequency: {'I': 1, ' ': 3, 'a': 1, 'm': 1, 't': 1, 'i': 1, 'r': 1, 'e': 1, 'd': 1}\n"
     ]
    }
   ],
   "source": [
    "def char_frequency(input_string):\n",
    "    frequency_dict = {}\n",
    "    for char in input_string:\n",
    "        if char in frequency_dict:\n",
    "            frequency_dict[char] += 1\n",
    "        else:\n",
    "            frequency_dict[char] = 1\n",
    "    return frequency_dict\n",
    "\n",
    "\n",
    "input_string = input(\"Enter a string: \")\n",
    "result = char_frequency(input_string)\n",
    "print(\"Character frequency:\", result)"
   ]
  },
  {
   "cell_type": "markdown",
   "id": "528b6482-a6ac-4849-88ce-d46b3e84565a",
   "metadata": {},
   "source": [
    "# 85. Dictionary Comprehension: Given a list of integers,  create a dictionary where the keys are the elements from the list, and the values are their squares."
   ]
  },
  {
   "cell_type": "code",
   "execution_count": 19,
   "id": "1afabf03-03b1-404b-99fa-415491d3eddd",
   "metadata": {},
   "outputs": [
    {
     "name": "stdout",
     "output_type": "stream",
     "text": [
      "Dictionary of numbers and their squares: {1: 1, 2: 4, 3: 9, 4: 16, 5: 25}\n"
     ]
    }
   ],
   "source": [
    "def create_square_dict(numbers):\n",
    "    return {num: num**2 for num in numbers}\n",
    "\n",
    "\n",
    "numbers = [1, 2, 3, 4, 5]\n",
    "\n",
    "\n",
    "square_dict = create_square_dict(numbers)\n",
    "print(\"Dictionary of numbers and their squares:\", square_dict)"
   ]
  },
  {
   "cell_type": "markdown",
   "id": "a7a9ab0a-ac6f-422e-b026-b4fd27987280",
   "metadata": {},
   "source": [
    "# 86. Dictionary Key Check: takes a key as input and checks if it exists in a given dictionary. Print “Key Found” if the key is present and “Key Not Found” otherwise."
   ]
  },
  {
   "cell_type": "code",
   "execution_count": 20,
   "id": "dbd0cfff-3ceb-4dc7-95ea-3b5221ef6ed9",
   "metadata": {},
   "outputs": [
    {
     "name": "stdin",
     "output_type": "stream",
     "text": [
      "Enter the key to check:  Roll\n"
     ]
    },
    {
     "name": "stdout",
     "output_type": "stream",
     "text": [
      "Key Not Found\n"
     ]
    }
   ],
   "source": [
    "def check_key_exists(dictionary, key):\n",
    "    if key in dictionary:\n",
    "        print(\"Key Found\")\n",
    "    else:\n",
    "        print(\"Key Not Found\")\n",
    "\n",
    "sample_dict = {'name': 'Alice', 'age': 25, 'city': 'New York'}\n",
    "\n",
    "\n",
    "key_to_check = input(\"Enter the key to check: \")\n",
    "\n",
    "\n",
    "check_key_exists(sample_dict, key_to_check)"
   ]
  },
  {
   "cell_type": "markdown",
   "id": "f24ba4b7-30e0-4a0e-ad40-9f5bf5fea5a8",
   "metadata": {},
   "source": [
    "# 87. Access Nested Dictionary: Given a nested dictionary containing student details,  access and print specific information such as a student’s name, age, and address."
   ]
  },
  {
   "cell_type": "code",
   "execution_count": 22,
   "id": "af458852-eed7-4c0d-9817-9e3e5fb4042e",
   "metadata": {},
   "outputs": [
    {
     "name": "stdin",
     "output_type": "stream",
     "text": [
      "Enter the student ID:  501\n"
     ]
    },
    {
     "name": "stdout",
     "output_type": "stream",
     "text": [
      "Student ID not found.\n"
     ]
    }
   ],
   "source": [
    "def get_student_details(students, student_id):\n",
    "    if student_id in students:\n",
    "        student = students[student_id]\n",
    "        name = student.get('name', 'N/A')\n",
    "        age = student.get('age', 'N/A')\n",
    "        address = student.get('address', 'N/A')\n",
    "        print(f\"Name: {name}\")\n",
    "        print(f\"Age: {age}\")\n",
    "        print(f\"Address: {address}\")\n",
    "    else:\n",
    "        print(\"Student ID not found.\")\n",
    "\n",
    "\n",
    "students = {\n",
    "    101: {'name': 'Alice', 'age': 23, 'address': '123 Maple St'},\n",
    "    102: {'name': 'Bob', 'age': 24, 'address': '456 Oak St'},\n",
    "    103: {'name': 'Charlie', 'age': 22, 'address': '789 Pine St'}\n",
    "}\n",
    "\n",
    "\n",
    "student_id = int(input(\"Enter the student ID: \"))\n",
    "\n",
    "\n",
    "get_student_details(students, student_id)"
   ]
  },
  {
   "cell_type": "markdown",
   "id": "f635e752-d12b-4db8-9220-83c6e2de4d05",
   "metadata": {},
   "source": [
    "# 88. Nested Dictionary Length:  calculate and print the total number of key-value pairs in a nested dictionary."
   ]
  },
  {
   "cell_type": "code",
   "execution_count": 55,
   "id": "5475dd57-4b51-470a-a561-34cec0d30806",
   "metadata": {},
   "outputs": [
    {
     "name": "stdout",
     "output_type": "stream",
     "text": [
      "Total number of key-value pairs: 9\n"
     ]
    }
   ],
   "source": [
    "def count_key_value_pairs(nested_dict):\n",
    "    count = 0\n",
    "    for key, value in nested_dict.items():\n",
    "        if isinstance(value, dict):\n",
    "            count += count_key_value_pairs(value)\n",
    "        else:\n",
    "            count += 1\n",
    "    return count\n",
    "\n",
    "\n",
    "nested_dict = {\n",
    "    'student1': {'name': 'Alice', 'age': 23, 'address': '123 Maple St'},\n",
    "    'student2': {'name': 'Bob', 'age': 24, 'address': '456 Oak St'},\n",
    "    'student3': {'name': 'Charlie', 'age': 22, 'address': '789 Pine St'}\n",
    "}\n",
    "\n",
    "\n",
    "total_pairs = count_key_value_pairs(nested_dict)\n",
    "print(\"Total number of key-value pairs:\", total_pairs)"
   ]
  },
  {
   "cell_type": "markdown",
   "id": "90ddb7fd-fc49-4594-a192-ce245a25b759",
   "metadata": {},
   "source": [
    "# 89. Nested Dictionary Update: Given a nested dictionary of employee details, update an employee’s salary based on their employee ID."
   ]
  },
  {
   "cell_type": "code",
   "execution_count": 54,
   "id": "b02f73c9-b87d-4014-b7ad-3f11b82e23ca",
   "metadata": {},
   "outputs": [
    {
     "name": "stdin",
     "output_type": "stream",
     "text": [
      "Enter the employee ID:  234\n",
      "Enter the new salary:  50000\n"
     ]
    },
    {
     "name": "stdout",
     "output_type": "stream",
     "text": [
      "Employee ID 234 not found.\n",
      "Updated employee details: {101: {'name': 'Alice', 'age': 30, 'salary': 50000}, 102: {'name': 'Bob', 'age': 25, 'salary': 45000}, 103: {'name': 'Charlie', 'age': 35, 'salary': 55000}}\n"
     ]
    }
   ],
   "source": [
    "def update_salary(employees, emp_id, new_salary):\n",
    "    if emp_id in employees:\n",
    "        employees[emp_id]['salary'] = new_salary\n",
    "        print(f\"Salary updated for employee ID {emp_id}.\")\n",
    "    else:\n",
    "        print(f\"Employee ID {emp_id} not found.\")\n",
    "    return employees\n",
    "\n",
    "\n",
    "employees = {\n",
    "    101: {'name': 'Alice', 'age': 30, 'salary': 50000},\n",
    "    102: {'name': 'Bob', 'age': 25, 'salary': 45000},\n",
    "    103: {'name': 'Charlie', 'age': 35, 'salary': 55000}\n",
    "}\n",
    "\n",
    "\n",
    "emp_id = int(input(\"Enter the employee ID: \"))\n",
    "new_salary = float(input(\"Enter the new salary: \"))\n",
    "\n",
    "\n",
    "updated_employees = update_salary(employees, emp_id, new_salary)\n",
    "print(\"Updated employee details:\", updated_employees)"
   ]
  },
  {
   "cell_type": "markdown",
   "id": "caadf17d-2ba1-46e8-9ac1-29eacaf1274d",
   "metadata": {},
   "source": [
    "# 90. Nested Dictionary Sorting: Given a nested dictionary containing product details (product name, price, and quantity),  sort the products based on their prices in ascending order."
   ]
  },
  {
   "cell_type": "code",
   "execution_count": 53,
   "id": "48d89989-131a-443a-b1a1-c29cf1b65ae8",
   "metadata": {},
   "outputs": [
    {
     "name": "stdout",
     "output_type": "stream",
     "text": [
      "Sorted products by price: {'product4': {'name': 'Monitor', 'price': 200, 'quantity': 5}, 'product3': {'name': 'Tablet', 'price': 300, 'quantity': 20}, 'product2': {'name': 'Smartphone', 'price': 600, 'quantity': 15}, 'product1': {'name': 'Laptop', 'price': 800, 'quantity': 10}}\n"
     ]
    }
   ],
   "source": [
    "def sort_products_by_price(products):\n",
    "    \n",
    "    sorted_products = dict(sorted(products.items(), key=lambda item: item[1]['price']))\n",
    "    return sorted_products\n",
    "\n",
    "\n",
    "products = {\n",
    "    'product1': {'name': 'Laptop', 'price': 800, 'quantity': 10},\n",
    "    'product2': {'name': 'Smartphone', 'price': 600, 'quantity': 15},\n",
    "    'product3': {'name': 'Tablet', 'price': 300, 'quantity': 20},\n",
    "    'product4': {'name': 'Monitor', 'price': 200, 'quantity': 5}\n",
    "}\n",
    "\n",
    "\n",
    "sorted_products = sort_products_by_price(products)\n",
    "print(\"Sorted products by price:\", sorted_products)"
   ]
  },
  {
   "cell_type": "markdown",
   "id": "275bda14-9d76-48b4-bb44-838cb2753199",
   "metadata": {},
   "source": [
    "# 91. Nested Dictionary Key Search:  takes a key as input and searches for it in a nested dictionary. If found, print the corresponding value, otherwise, print “Key Not Found.”"
   ]
  },
  {
   "cell_type": "code",
   "execution_count": 52,
   "id": "00dbfcbb-8655-45c8-80d0-9857236a0a51",
   "metadata": {},
   "outputs": [
    {
     "name": "stdout",
     "output_type": "stream",
     "text": [
      "3\n",
      "Key Not Found\n",
      "Key Not Found\n",
      "Key Not Found\n"
     ]
    },
    {
     "data": {
      "text/plain": [
       "False"
      ]
     },
     "execution_count": 52,
     "metadata": {},
     "output_type": "execute_result"
    }
   ],
   "source": [
    "         \n",
    "def find_key_in_nested_dict(nested_dict, key):\n",
    "    if key in nested_dict:\n",
    "        print(nested_dict[key])\n",
    "        return True\n",
    "    for k, v in nested_dict.items():\n",
    "        if isinstance(v, dict):\n",
    "            if find_key_in_nested_dict(v, key):\n",
    "                return True\n",
    "    print(\"Key Not Found\")\n",
    "    return False\n",
    "\n",
    "\n",
    "nested_dict = {\n",
    "    'a': 1,\n",
    "    'b': {\n",
    "        'c': 2,\n",
    "        'd': {\n",
    "            'e': 3\n",
    "        }\n",
    "    }\n",
    "}\n",
    "\n",
    "find_key_in_nested_dict(nested_dict, 'e')  \n",
    "find_key_in_nested_dict(nested_dict, 'f')  \n"
   ]
  },
  {
   "cell_type": "markdown",
   "id": "9a7db307-29ef-4263-93c3-fc75d69dc02d",
   "metadata": {},
   "source": [
    "# 92. Prime Number Checker: takes a number as input and determines if it is a prime number or not. Use a `for` loop to check for factors. If a factor is found, `break` out of the loop."
   ]
  },
  {
   "cell_type": "code",
   "execution_count": 26,
   "id": "333c8d85-b635-4534-938b-71fd12b4e144",
   "metadata": {},
   "outputs": [
    {
     "name": "stdin",
     "output_type": "stream",
     "text": [
      "Enter a number:  34\n"
     ]
    },
    {
     "name": "stdout",
     "output_type": "stream",
     "text": [
      "34 is not a prime number.\n"
     ]
    }
   ],
   "source": [
    "def is_prime(number):\n",
    "    if number <= 1:\n",
    "        return False\n",
    "    for i in range(2, number):\n",
    "        if number % i == 0:\n",
    "            return False\n",
    "    return True\n",
    "\n",
    "\n",
    "num = int(input(\"Enter a number: \"))\n",
    "\n",
    "\n",
    "if is_prime(num):\n",
    "    print(f\"{num} is a prime number.\")\n",
    "else:\n",
    "    print(f\"{num} is not a prime number.\")"
   ]
  },
  {
   "cell_type": "markdown",
   "id": "97478fe3-daf5-4736-b869-326df8bd4598",
   "metadata": {},
   "source": [
    "# 93. Even Number Printer: print all even numbers from 1 to 20. Use a `for` loop and `continue` to skip odd numbers."
   ]
  },
  {
   "cell_type": "code",
   "execution_count": 27,
   "id": "2c0d5635-e122-4707-9dd8-8a129c0b8ea1",
   "metadata": {},
   "outputs": [
    {
     "name": "stdout",
     "output_type": "stream",
     "text": [
      "2\n",
      "4\n",
      "6\n",
      "8\n",
      "10\n",
      "12\n",
      "14\n",
      "16\n",
      "18\n",
      "20\n"
     ]
    }
   ],
   "source": [
    "for num in range(1, 21):\n",
    "    if num % 2 != 0:\n",
    "        continue\n",
    "    print(num)"
   ]
  },
  {
   "cell_type": "markdown",
   "id": "fa461749-c929-4224-ba71-84198832816b",
   "metadata": {},
   "source": [
    "# 94. Password Validator:  takes a password as input and checks if it meets the following criteria: at least 8 characters long, contains both uppercase and lowercase letters, and has at least one digit. If the password is valid, print “Password accepted.” If not, use `continue` to prompt the user to enter a valid password."
   ]
  },
  {
   "cell_type": "code",
   "execution_count": 38,
   "id": "d95c74ee-25f3-4d41-af21-a2f426ff8fef",
   "metadata": {},
   "outputs": [
    {
     "name": "stdin",
     "output_type": "stream",
     "text": [
      "Enter a password:  moalis\n"
     ]
    },
    {
     "name": "stdout",
     "output_type": "stream",
     "text": [
      "Invalid password. Please try again.\n"
     ]
    },
    {
     "name": "stdin",
     "output_type": "stream",
     "text": [
      "Enter a password:  monalisa2\n"
     ]
    },
    {
     "name": "stdout",
     "output_type": "stream",
     "text": [
      "Invalid password. Please try again.\n"
     ]
    },
    {
     "name": "stdin",
     "output_type": "stream",
     "text": [
      "Enter a password:  Monalisa5\n"
     ]
    },
    {
     "name": "stdout",
     "output_type": "stream",
     "text": [
      "Password accepted.\n"
     ]
    }
   ],
   "source": [
    "def is_valid_password(password):\n",
    "    if len(password) < 8:\n",
    "        return False\n",
    "    if not any(char.isdigit() for char in password):\n",
    "        return False\n",
    "    if not any(char.isupper() for char in password):\n",
    "        return False\n",
    "    if not any(char.islower() for char in password):\n",
    "        return False\n",
    "    return True\n",
    "\n",
    "while True:\n",
    "    password = input(\"Enter a password: \")\n",
    "    if is_valid_password(password):\n",
    "        print(\"Password accepted.\")\n",
    "        break\n",
    "    else:\n",
    "        print(\"Invalid password. Please try again.\")\n",
    "        continue\n",
    "        \n",
    "        #break"
   ]
  },
  {
   "cell_type": "markdown",
   "id": "f5eb82b1-11d5-4d50-8435-ae4da9386edb",
   "metadata": {},
   "source": [
    "# 95. Divisible by 3 or 5: print all numbers from 1 to 50 that are divisible by either 3 or 5. Use a `for` loop and `continue` to skip numbers that are not divisible by either 3 or 5."
   ]
  },
  {
   "cell_type": "code",
   "execution_count": 1,
   "id": "19ccbfde-e62f-4f24-8b8e-ac05f8005318",
   "metadata": {},
   "outputs": [
    {
     "name": "stdout",
     "output_type": "stream",
     "text": [
      "3\n",
      "5\n",
      "6\n",
      "9\n",
      "10\n",
      "12\n",
      "15\n",
      "18\n",
      "20\n",
      "21\n",
      "24\n",
      "25\n",
      "27\n",
      "30\n",
      "33\n",
      "35\n",
      "36\n",
      "39\n",
      "40\n",
      "42\n",
      "45\n",
      "48\n",
      "50\n"
     ]
    }
   ],
   "source": [
    "for num in range(1, 51):\n",
    "    if num % 3 != 0 and num % 5 != 0:\n",
    "        continue\n",
    "    print(num)"
   ]
  },
  {
   "cell_type": "markdown",
   "id": "1c398edd-d051-4b15-9349-b6bbed9c07f7",
   "metadata": {},
   "source": [
    "# 96. Positive Number Sum:  takes positive numbers as input until a negative number is entered. Then, calculate and print the sum of all positive numbers entered. Use a `while` loop and `break` to exit the loop when a negative number is encountered."
   ]
  },
  {
   "cell_type": "code",
   "execution_count": 34,
   "id": "47e98a23-0ac1-4005-a4bf-68c3981720d8",
   "metadata": {},
   "outputs": [
    {
     "name": "stdin",
     "output_type": "stream",
     "text": [
      "Enter a positive number (or a negative number to stop):  59\n",
      "Enter a positive number (or a negative number to stop):  90\n",
      "Enter a positive number (or a negative number to stop):  -4\n"
     ]
    },
    {
     "name": "stdout",
     "output_type": "stream",
     "text": [
      "Sum of all positive numbers entered: 149.0\n"
     ]
    }
   ],
   "source": [
    "def sum_positive_numbers():\n",
    "    total_sum = 0\n",
    "    while True:\n",
    "        number = float(input(\"Enter a positive number (or a negative number to stop): \"))\n",
    "        if number < 0:\n",
    "            break\n",
    "        total_sum += number\n",
    "    return total_sum\n",
    "\n",
    "\n",
    "sum_of_numbers = sum_positive_numbers()\n",
    "print(\"Sum of all positive numbers entered:\", sum_of_numbers)"
   ]
  },
  {
   "cell_type": "markdown",
   "id": "b8045c58-6abc-4919-9012-1cdd719e8393",
   "metadata": {},
   "source": [
    "# 97. Word Palindrome Checker:  takes a word as input and checks if it is a palindrome (reads the same forwards and backward). Use `continue` to skip checking the word if its length is less than 3 characters."
   ]
  },
  {
   "cell_type": "code",
   "execution_count": 3,
   "id": "d3c057e1-adaa-4a35-a162-0245689d2aff",
   "metadata": {},
   "outputs": [
    {
     "name": "stdin",
     "output_type": "stream",
     "text": [
      "Enter a word:  ipeipo\n"
     ]
    },
    {
     "name": "stdout",
     "output_type": "stream",
     "text": [
      "'ipeipo' is not a palindrome.\n"
     ]
    }
   ],
   "source": [
    "def is_palindrome(word):\n",
    "    return word == word[::-1]\n",
    "\n",
    "while True:\n",
    "    word = input(\"Enter a word: \")\n",
    "    if len(word) < 3:\n",
    "        print(\"Word is too short, please enter a word with at least 3 characters.\")\n",
    "        continue\n",
    "    if is_palindrome(word):\n",
    "        print(f\"'{word}' is a palindrome.\")\n",
    "    else:\n",
    "        print(f\"'{word}' is not a palindrome.\")\n",
    "    break"
   ]
  },
  {
   "cell_type": "markdown",
   "id": "9fe4234f-460e-41a1-bb03-d398f289f1b0",
   "metadata": {},
   "source": [
    "# 98. Odd Number Finder:  find the first odd number from a list of integers. Use a `for` loop and `break` to stop the loop when the first odd number is found."
   ]
  },
  {
   "cell_type": "code",
   "execution_count": 4,
   "id": "7b742800-2cd5-4a59-bd18-c9897cc0da1c",
   "metadata": {},
   "outputs": [
    {
     "name": "stdout",
     "output_type": "stream",
     "text": [
      "The first odd number is: 11\n"
     ]
    }
   ],
   "source": [
    "def find_first_odd(numbers):\n",
    "    for num in numbers:\n",
    "        if num % 2 != 0:\n",
    "            return num\n",
    "    return None\n",
    "\n",
    "\n",
    "numbers = [2, 4, 6, 8, 10, 11, 14, 17]\n",
    "\n",
    "# Find the first odd number\n",
    "first_odd = find_first_odd(numbers)\n",
    "if first_odd is not None:\n",
    "    print(f\"The first odd number is: {first_odd}\")\n",
    "else:\n",
    "    print(\"No odd number found in the list.\")"
   ]
  },
  {
   "cell_type": "markdown",
   "id": "8405c8e0-c331-4168-a4bf-3f5c34b3e62f",
   "metadata": {},
   "source": [
    "# 99. Number Guessing Game: generates a random number between 1 and 100 and lets the user guess the number. Use a `while` loop, `break` when the correct number is guessed, and `continue` to keep prompting the user until they guess correctly."
   ]
  },
  {
   "cell_type": "code",
   "execution_count": null,
   "id": "96bb0fa9-f4e6-4811-81bf-cbafec257f93",
   "metadata": {},
   "outputs": [
    {
     "name": "stdin",
     "output_type": "stream",
     "text": [
      "Guess the number (between 1 and 100):  98\n"
     ]
    },
    {
     "name": "stdout",
     "output_type": "stream",
     "text": [
      "Too high! Try again.\n"
     ]
    },
    {
     "name": "stdin",
     "output_type": "stream",
     "text": [
      "Guess the number (between 1 and 100):  50\n"
     ]
    },
    {
     "name": "stdout",
     "output_type": "stream",
     "text": [
      "Too high! Try again.\n"
     ]
    },
    {
     "name": "stdin",
     "output_type": "stream",
     "text": [
      "Guess the number (between 1 and 100):  20\n"
     ]
    },
    {
     "name": "stdout",
     "output_type": "stream",
     "text": [
      "Too low! Try again.\n"
     ]
    },
    {
     "name": "stdin",
     "output_type": "stream",
     "text": [
      "Guess the number (between 1 and 100):  39\n"
     ]
    },
    {
     "name": "stdout",
     "output_type": "stream",
     "text": [
      "Too high! Try again.\n"
     ]
    },
    {
     "name": "stdin",
     "output_type": "stream",
     "text": [
      "Guess the number (between 1 and 100):  29\n"
     ]
    },
    {
     "name": "stdout",
     "output_type": "stream",
     "text": [
      "Too low! Try again.\n"
     ]
    },
    {
     "name": "stdin",
     "output_type": "stream",
     "text": [
      "Guess the number (between 1 and 100):  36\n"
     ]
    },
    {
     "name": "stdout",
     "output_type": "stream",
     "text": [
      "Too high! Try again.\n"
     ]
    },
    {
     "name": "stdin",
     "output_type": "stream",
     "text": [
      "Guess the number (between 1 and 100):  31\n"
     ]
    },
    {
     "name": "stdout",
     "output_type": "stream",
     "text": [
      "Too low! Try again.\n"
     ]
    },
    {
     "name": "stdin",
     "output_type": "stream",
     "text": [
      "Guess the number (between 1 and 100):  33\n"
     ]
    },
    {
     "name": "stdout",
     "output_type": "stream",
     "text": [
      "Too high! Try again.\n"
     ]
    },
    {
     "name": "stdin",
     "output_type": "stream",
     "text": [
      "Guess the number (between 1 and 100):  25\n"
     ]
    },
    {
     "name": "stdout",
     "output_type": "stream",
     "text": [
      "Too low! Try again.\n"
     ]
    },
    {
     "name": "stdin",
     "output_type": "stream",
     "text": [
      "Guess the number (between 1 and 100):  27\n"
     ]
    },
    {
     "name": "stdout",
     "output_type": "stream",
     "text": [
      "Too low! Try again.\n"
     ]
    }
   ],
   "source": [
    "import random\n",
    "\n",
    "def number_guessing_game():\n",
    "    number_to_guess = random.randint(1, 100)\n",
    "    while True:\n",
    "        try:\n",
    "            guess = int(input(\"Guess the number (between 1 and 100): \"))\n",
    "            if guess < 1 or guess > 100:\n",
    "                print(\"Please enter a number between 1 and 100.\")\n",
    "                continue\n",
    "            if guess < number_to_guess:\n",
    "                print(\"Too low! Try again.\")\n",
    "            elif guess > number_to_guess:\n",
    "                print(\"Too high! Try again.\")\n",
    "            else:\n",
    "                print(\"Congratulations! You guessed the correct number.\")\n",
    "                break\n",
    "        except ValueError:\n",
    "            print(\"Invalid input. Please enter a valid number.\")\n",
    "\n",
    "\n",
    "number_guessing_game()"
   ]
  },
  {
   "cell_type": "markdown",
   "id": "9bcf1e5c-2a5a-4f6c-8d7e-c271a1293f69",
   "metadata": {},
   "source": [
    "# 100. Vowel Counter: takes a string as input and counts the number of vowels (a, e, i, o, u) in it. Use a `for` loop and `continue` to skip counting non-vowel characters."
   ]
  },
  {
   "cell_type": "code",
   "execution_count": 1,
   "id": "85ca766d-8eab-440c-bd74-a3aec80232a0",
   "metadata": {},
   "outputs": [
    {
     "name": "stdin",
     "output_type": "stream",
     "text": [
      "Enter a string:  It is time to focus on after life\n"
     ]
    },
    {
     "name": "stdout",
     "output_type": "stream",
     "text": [
      "The number of vowels in the string is: 12\n"
     ]
    }
   ],
   "source": [
    "def count_vowels(input_string):\n",
    "    vowels = \"aeiouAEIOU\"\n",
    "    count = 0\n",
    "    for char in input_string:\n",
    "        if char not in vowels:\n",
    "            continue\n",
    "        count += 1\n",
    "    return count\n",
    "\n",
    "\n",
    "input_string = input(\"Enter a string: \")\n",
    "vowel_count = count_vowels(input_string)\n",
    "print(f\"The number of vowels in the string is: {vowel_count}\")"
   ]
  },
  {
   "cell_type": "markdown",
   "id": "52a5a63a-0bdc-42cb-9575-b9cb8fc16f54",
   "metadata": {},
   "source": [
    "# 102. Factorial Calculator: Write a Python function called `factorial` that takes an integer as input and returns its factorial. Test the function with different values."
   ]
  },
  {
   "cell_type": "code",
   "execution_count": 2,
   "id": "876cd551-b33a-4ae0-9665-37ae834c7f13",
   "metadata": {},
   "outputs": [
    {
     "name": "stdout",
     "output_type": "stream",
     "text": [
      "120\n",
      "1\n",
      "Factorial is not defined for negative numbers.\n"
     ]
    }
   ],
   "source": [
    "\n",
    "def factorial(n):\n",
    "    if n < 0:\n",
    "        return \"Factorial is not defined for negative numbers.\"\n",
    "    elif n == 0 or n == 1:\n",
    "        return 1\n",
    "    else:\n",
    "        result = 1\n",
    "        for i in range(2, n + 1):\n",
    "            result *= i\n",
    "        return result\n",
    "\n",
    "print(factorial(5))  \n",
    "print(factorial(0))  \n",
    "print(factorial(-3)) "
   ]
  },
  {
   "cell_type": "markdown",
   "id": "8e1b3618-4df9-4f15-b354-13bc23ce2a4a",
   "metadata": {},
   "source": [
    "# 103. Palindrome Checker: Write a Python function called `is_palindrome` that takes a string as input and returns `True` if it is a palindrome and `False` otherwise. Test the function with different words."
   ]
  },
  {
   "cell_type": "code",
   "execution_count": 32,
   "id": "3f1936dd-7941-4744-bf12-3b35d4e4125e",
   "metadata": {},
   "outputs": [
    {
     "name": "stdout",
     "output_type": "stream",
     "text": [
      "True\n",
      "False\n",
      "True\n"
     ]
    }
   ],
   "source": [
    "def is_palindrome(s):\n",
    "    # Convert the string to lowercase and remove spaces\n",
    "    s = s.lower().replace(\" \", \"\")\n",
    "    # Check if the string is equal to its reverse\n",
    "    return s == s[::-1]\n",
    "\n",
    "\n",
    "print(is_palindrome(\"radar\"))      \n",
    "print(is_palindrome(\"hello\"))      \n",
    "print(is_palindrome(\"A man a plan a canal Panama\")) "
   ]
  },
  {
   "cell_type": "markdown",
   "id": "75874213-4ddf-4b12-9213-fcc0f2620dcd",
   "metadata": {},
   "source": [
    "# 104. Even or Odd Checker: Write a Python function called `even_or_odd` that takes an integer as input and returns “Even” if the number is even and “Odd” if the number is odd. Test the function with different numbers."
   ]
  },
  {
   "cell_type": "code",
   "execution_count": 31,
   "id": "090ab720-7110-4e6e-951a-d5e1e52e38ba",
   "metadata": {},
   "outputs": [
    {
     "name": "stdin",
     "output_type": "stream",
     "text": [
      "enter any number -65\n"
     ]
    },
    {
     "name": "stdout",
     "output_type": "stream",
     "text": [
      "Odd\n",
      "Odd\n",
      "Even\n"
     ]
    }
   ],
   "source": [
    "def even_or_odd(number):\n",
    "    if number % 2 == 0:\n",
    "        return \"Even\"\n",
    "    else:\n",
    "        return \"Odd\"\n",
    "\n",
    "num=int(input(\"enter any number\"))\n",
    "\n",
    "print(even_or_odd(num ))  \n",
    "print(even_or_odd(7))   \n",
    "print(even_or_odd(0))  "
   ]
  },
  {
   "cell_type": "markdown",
   "id": "0294511e-98a7-4436-ae6a-4d8319b842b3",
   "metadata": {},
   "source": [
    "# 105. List Sum Calculator: Write a Python function called `list_sum` that takes a list of integers as input and returns the sum of all elements in the list. Test the function with different lists."
   ]
  },
  {
   "cell_type": "code",
   "execution_count": 30,
   "id": "8e2ced50-fd05-44c1-b536-50b8979d4db2",
   "metadata": {},
   "outputs": [
    {
     "name": "stdout",
     "output_type": "stream",
     "text": [
      "15\n",
      "18\n",
      "0\n"
     ]
    }
   ],
   "source": [
    "def list_sum(numbers):\n",
    "    total = 0\n",
    "    for num in numbers:\n",
    "        total += num\n",
    "    return total\n",
    "\n",
    "\n",
    "print(list_sum([1, 2, 3, 4, 5]))  \n",
    "print(list_sum([10, -2, 3, 7]))   \n",
    "print(list_sum([]))              "
   ]
  },
  {
   "cell_type": "markdown",
   "id": "ff8ef5cb-efce-40a6-a2ea-93f5ad763f60",
   "metadata": {},
   "source": [
    "# 106. Greatest Common Divisor (GCD) Calculator: Write a Python function called `gcd` that takes two integers as input and returns their greatest common divisor. Test the function with different pairs of numbers."
   ]
  },
  {
   "cell_type": "code",
   "execution_count": 29,
   "id": "1d6024e2-b583-42a9-84e0-fa1bb6ce8f95",
   "metadata": {},
   "outputs": [
    {
     "name": "stdin",
     "output_type": "stream",
     "text": [
      "enter the number1: 5\n",
      "enter the number2: 6\n"
     ]
    },
    {
     "name": "stdout",
     "output_type": "stream",
     "text": [
      "1\n",
      "1\n"
     ]
    }
   ],
   "source": [
    "def gcd(a, b):\n",
    "    while b:\n",
    "        a, b = b, a % b\n",
    "    return abs(a)\n",
    "\n",
    "num1=int(input(\"enter the number1:\"))\n",
    "num2=int(input(\"enter the number2:\"))\n",
    "\n",
    "print(gcd(num1,num2)) \n",
    "print(gcd(101, 10)) "
   ]
  },
  {
   "cell_type": "markdown",
   "id": "2b00a022-99b5-4a57-8fc9-544efb32f2e2",
   "metadata": {},
   "source": [
    "# 107. Leap Year Checker: Write a Python function called `is_leap_year` that takes a year as input and returns `True` if it is a leap year and `False` otherwise. Test the function with different years."
   ]
  },
  {
   "cell_type": "code",
   "execution_count": 26,
   "id": "e0ffbd8b-fc38-411b-befc-33ca00d0ca0c",
   "metadata": {},
   "outputs": [
    {
     "name": "stdin",
     "output_type": "stream",
     "text": [
      "enter any year: 2050\n"
     ]
    },
    {
     "name": "stdout",
     "output_type": "stream",
     "text": [
      "False\n",
      "False\n",
      "True\n",
      "False\n"
     ]
    }
   ],
   "source": [
    "def is_leap_year(year):\n",
    "    return (year % 4 == 0 and year % 100 != 0) or (year % 400 == 0)\n",
    "\n",
    "year=int(input(\"enter any year:\"))\n",
    "\n",
    "print(is_leap_year(year))  \n",
    "print(is_leap_year(1900))  \n",
    "print(is_leap_year(2000))  \n",
    "print(is_leap_year(2023))  "
   ]
  },
  {
   "cell_type": "markdown",
   "id": "e9d24838-9c77-4b05-b044-c81b4438e806",
   "metadata": {},
   "source": [
    "# 108. Math Operations: Write a Python function called `math_operations` that takes three numbers and a string representing an operation (‘add’, ‘subtract’, ‘multiply’, or ‘divide’). The function should return the result of the specified operation on the three numbers. Implement the math operations as nested functions.\n"
   ]
  },
  {
   "cell_type": "code",
   "execution_count": 25,
   "id": "5787505e-39a9-4a92-949a-680cd8369eb2",
   "metadata": {},
   "outputs": [
    {
     "name": "stdin",
     "output_type": "stream",
     "text": [
      "enter the number1: 3\n",
      "enter the number2: 5\n",
      "enter the number3: 4\n",
      "enter operation to perform: multiply\n"
     ]
    },
    {
     "name": "stdout",
     "output_type": "stream",
     "text": [
      "60\n"
     ]
    }
   ],
   "source": [
    "def math_operations(a, b, c, operation):\n",
    "    def add(x, y, z):\n",
    "        return x + y + z\n",
    "\n",
    "    def subtract(x, y, z):\n",
    "        return x - y - z\n",
    "\n",
    "    def multiply(x, y, z):\n",
    "        return x * y * z\n",
    "\n",
    "    def divide(x, y, z):\n",
    "        if y == 0 or z == 0:\n",
    "            return \"Division by zero is not allowed.\"\n",
    "        return x / y / z\n",
    "\n",
    "    if operation == 'add':\n",
    "        return add(a, b, c)\n",
    "    elif operation == 'subtract':\n",
    "        return subtract(a, b, c)\n",
    "    elif operation == 'multiply':\n",
    "        return multiply(a, b, c)\n",
    "    elif operation == 'divide':\n",
    "        return divide(a, b, c)\n",
    "    else:\n",
    "        return \"Invalid operation.\"\n",
    "\n",
    "num1=int(input(\"enter the number1:\"))\n",
    "num2=int(input(\"enter the number2:\"))\n",
    "num3=int(input(\"enter the number3:\"))\n",
    "oper=input(\"enter operation to perform:\")\n",
    "\n",
    "print(math_operations(num1, num2,num3, oper))      "
   ]
  },
  {
   "cell_type": "markdown",
   "id": "ba595605-bf01-4c75-91bd-e8ca36166e8e",
   "metadata": {},
   "source": [
    "# 109. Greeting Generator: Write a Python function called `greeting_generator` that takes a name as input and returns a greeting message using nested functions. The greeting message should be customizable (e.g., “Hello, {name}! How are you today?”)."
   ]
  },
  {
   "cell_type": "code",
   "execution_count": 22,
   "id": "dc3f2c9a-9f4e-412d-8fb7-7eb30fdcc0ae",
   "metadata": {},
   "outputs": [
    {
     "name": "stdin",
     "output_type": "stream",
     "text": [
      "Give your Name: Monalisa\n"
     ]
    },
    {
     "name": "stdout",
     "output_type": "stream",
     "text": [
      "Hello, Monalisa! How are you today?\n"
     ]
    }
   ],
   "source": [
    "def greeting_generator(name):\n",
    "    def greeting_message():\n",
    "        return f\"Hello, {name}! How are you today?\"\n",
    "\n",
    "    return greeting_message()\n",
    "\n",
    "nam=input(\"Give your Name:\")\n",
    "\n",
    "print(greeting_generator(nam))  \n",
    "    "
   ]
  },
  {
   "cell_type": "markdown",
   "id": "42e4becb-391d-457e-80fa-43136eb233da",
   "metadata": {},
   "source": [
    "# 110. Temperature Converter: Write a Python function called `temperature_converter` that takes a temperature value and a string representing the scale (‘C’ for Celsius or ‘F’ for Fahrenheit) as input. The function should convert the temperature from one scale to the other using nested functions and return the converted value."
   ]
  },
  {
   "cell_type": "code",
   "execution_count": 21,
   "id": "8f4bfb0d-83f6-45d9-a5b5-001e27748206",
   "metadata": {},
   "outputs": [
    {
     "name": "stdin",
     "output_type": "stream",
     "text": [
      "Give value of the temperature 33.5\n",
      "Give scale of temperature C\n"
     ]
    },
    {
     "name": "stdout",
     "output_type": "stream",
     "text": [
      "92.3\n"
     ]
    }
   ],
   "source": [
    "def temperature_converter(value, scale):\n",
    "    def celsius_to_fahrenheit(c):\n",
    "        return (c * 9/5) + 32\n",
    "\n",
    "    def fahrenheit_to_celsius(f):\n",
    "        return (f - 32) * 5/9\n",
    "\n",
    "    if scale == 'C':\n",
    "        return celsius_to_fahrenheit(value)\n",
    "    elif scale == 'F':\n",
    "        return fahrenheit_to_celsius(value)\n",
    "    else:\n",
    "        return \"Invalid scale. Use 'C' for Celsius or 'F' for Fahrenheit.\"\n",
    "tem=float(input(\"Give value of the temperature\"))\n",
    "scale=input(\"Give scale of temperature\")\n",
    "print(temperature_converter(tem,scale))\n",
    "\n",
    "\n"
   ]
  },
  {
   "cell_type": "markdown",
   "id": "27383893-34f0-47fa-8ebf-ab6e26c3155f",
   "metadata": {},
   "source": [
    "# 111. Factorial Calculation: Write a recursive Python function called `factorial` that takes a non-negative integer as input and returns its factorial."
   ]
  },
  {
   "cell_type": "code",
   "execution_count": 18,
   "id": "9122a09a-2ff2-4836-aa81-3d6b61831096",
   "metadata": {},
   "outputs": [
    {
     "name": "stdin",
     "output_type": "stream",
     "text": [
      "enter the positive number 5\n"
     ]
    },
    {
     "name": "stdout",
     "output_type": "stream",
     "text": [
      "120\n"
     ]
    }
   ],
   "source": [
    "def factorial(n):\n",
    "    if n < 0:\n",
    "        return \"Factorial is not defined for negative numbers.\"\n",
    "    elif n == 0 or n == 1:\n",
    "        return 1\n",
    "    else:\n",
    "        return n * factorial(n - 1)\n",
    "\n",
    "num=int(input(\"enter the positive number\"))\n",
    "print(factorial(num))\n",
    "\n"
   ]
  },
  {
   "cell_type": "markdown",
   "id": "db0cab52-16d0-4b9c-a874-2dc69eea8e20",
   "metadata": {},
   "source": [
    "# 112. Fibonacci Series: Write a recursive Python function called `Fibonacci` that takes an integer N as input and returns the Nth number in the Fibonacci series. The Fibonacci series is defined as follows: F(0) = 0, F(1) = 1, and F(n) = F(n-1) + F(n-2) for n > 1."
   ]
  },
  {
   "cell_type": "code",
   "execution_count": 15,
   "id": "8c54ea85-f99b-4202-9eda-01d48cb1e896",
   "metadata": {},
   "outputs": [
    {
     "name": "stdin",
     "output_type": "stream",
     "text": [
      " enter the  positive number 3\n"
     ]
    },
    {
     "name": "stdout",
     "output_type": "stream",
     "text": [
      "2\n"
     ]
    }
   ],
   "source": [
    "def Fibonacci(n):\n",
    "    if n <= 0:\n",
    "        return 0\n",
    "    elif n == 1:\n",
    "        return 1\n",
    "    else:\n",
    "        return Fibonacci(n - 1) + Fibonacci(n - 2)\n",
    "\n",
    "number=int(input(\" enter the  positive number\"))\n",
    "print(Fibonacci(number))\n"
   ]
  },
  {
   "cell_type": "markdown",
   "id": "f60e3809-8e0c-4403-a716-bb2bbfa1e323",
   "metadata": {},
   "source": [
    "# 113. The sum of Digits: Write a recursive Python function called `sum_of_digits` that takes an integer as input and returns the sum of its digits."
   ]
  },
  {
   "cell_type": "code",
   "execution_count": 12,
   "id": "4a7228eb-2096-4097-a0d3-1fdab7051b94",
   "metadata": {},
   "outputs": [
    {
     "name": "stdout",
     "output_type": "stream",
     "text": [
      "15\n",
      "15\n",
      "0\n",
      "Sum of digits is not defined for negative numbers.\n"
     ]
    }
   ],
   "source": [
    "def sum_of_digits(n):\n",
    "    if n < 0:\n",
    "        return \"Sum of digits is not defined for negative numbers.\"\n",
    "    elif n == 0:\n",
    "        return 0\n",
    "    else:\n",
    "        return n % 10 + sum_of_digits(n // 10)\n",
    "\n",
    "\n",
    "print(sum_of_digits(12345))  \n",
    "print(sum_of_digits(456))    \n",
    "print(sum_of_digits(0))      \n",
    "print(sum_of_digits(-123))  "
   ]
  },
  {
   "cell_type": "markdown",
   "id": "0241811a-a5db-4590-a54e-79ae243886ca",
   "metadata": {},
   "source": [
    "# 114. Binary Search: Write a recursive Python function called `binary_search` that takes a sorted list and a target value as input and returns the index of the target value in the list using binary search. If the target value is not in the list, return -1."
   ]
  },
  {
   "cell_type": "code",
   "execution_count": 11,
   "id": "bad76cb0-f3df-4100-987a-3fd014e0c7be",
   "metadata": {},
   "outputs": [
    {
     "name": "stdin",
     "output_type": "stream",
     "text": [
      "enter the target value: 9\n"
     ]
    },
    {
     "name": "stdout",
     "output_type": "stream",
     "text": [
      "Element is not present in array\n"
     ]
    }
   ],
   "source": [
    "def binary_search(arr, target, low, high):\n",
    "    if high >= low:\n",
    "        mid = (high + low) // 2\n",
    "        if arr[mid] == target:\n",
    "            return mid\n",
    "        elif arr[mid] > target:\n",
    "            return binary_search(arr, target, low, mid - 1)\n",
    "        else:\n",
    "            return binary_search(arr, target, mid + 1, high)\n",
    "    else:\n",
    "        return -1\n",
    "\n",
    "sorted_list = [2, 3, 4, 10, 40]\n",
    "target = int(input(\"enter the target value:\"))\n",
    "\n",
    "result = binary_search(sorted_list, target, 0, len(sorted_list) - 1)\n",
    "\n",
    "print(f\"Element is present at index {result}\" if result != -1 else \"Element is not present in array\")"
   ]
  },
  {
   "cell_type": "markdown",
   "id": "d779c50a-a76f-4230-a478-6da8720af1b0",
   "metadata": {},
   "source": [
    "# 115. Power Calculation: Write a recursive Python function called `power` that takes two positive integers, base and exponent, as input and returns the value of base raised to the exponent"
   ]
  },
  {
   "cell_type": "code",
   "execution_count": 10,
   "id": "0c0b14cb-4c31-40e9-a09a-f32fadf88ead",
   "metadata": {},
   "outputs": [
    {
     "name": "stdin",
     "output_type": "stream",
     "text": [
      "enter the base: 4\n",
      "enter the power: 3\n"
     ]
    },
    {
     "name": "stdout",
     "output_type": "stream",
     "text": [
      "64\n"
     ]
    }
   ],
   "source": [
    "def power(base, exponent):\n",
    "    if exponent == 0:\n",
    "        return 1\n",
    "    else:\n",
    "        return base * power(base, exponent - 1)\n",
    "\n",
    "base= int( input(\"enter the base:\"))\n",
    "expo=int(input(\"enter the power:\"))\n",
    "\n",
    "print(power(base,expo))\n",
    "\n"
   ]
  },
  {
   "cell_type": "code",
   "execution_count": null,
   "id": "f1a410f6-3015-46b4-bdac-c5828327aa22",
   "metadata": {},
   "outputs": [],
   "source": []
  }
 ],
 "metadata": {
  "kernelspec": {
   "display_name": "Python 3 (ipykernel)",
   "language": "python",
   "name": "python3"
  },
  "language_info": {
   "codemirror_mode": {
    "name": "ipython",
    "version": 3
   },
   "file_extension": ".py",
   "mimetype": "text/x-python",
   "name": "python",
   "nbconvert_exporter": "python",
   "pygments_lexer": "ipython3",
   "version": "3.12.4"
  }
 },
 "nbformat": 4,
 "nbformat_minor": 5
}
